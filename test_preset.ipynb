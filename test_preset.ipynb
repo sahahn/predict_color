{
 "cells": [
  {
   "cell_type": "code",
   "execution_count": 24,
   "id": "932b38cf",
   "metadata": {},
   "outputs": [],
   "source": [
    "from load import load_runs, conv_runs_to_epochs, extract_summary_stats\n",
    "from ml import eval_all, get_pipe,  predict_new\n",
    "import numpy as np\n",
    "import mne\n",
    "from joblib import dump, load"
   ]
  },
  {
   "cell_type": "code",
   "execution_count": 35,
   "id": "1afa8813",
   "metadata": {},
   "outputs": [],
   "source": [
    "def train_and_save(params, runs, save_name,\n",
    "                   use_summary=False, model='rf'):\n",
    "    \n",
    "    # Load as epochs w/ or w/o ica\n",
    "    epochs, ica_obj = conv_runs_to_epochs(runs, tmin=-2, tmax=1.9, **params)\n",
    "    \n",
    "    # Get epochs as data\n",
    "    data = epochs.get_data()\n",
    "    \n",
    "    # Grab labels\n",
    "    labels = epochs.events[:, -1]\n",
    "    \n",
    "    # Add to params for save\n",
    "    params['ica_obj'] = ica_obj\n",
    "    params['use_summary'] = use_summary\n",
    "    params['epoch_len'] = data.shape[-1]\n",
    "    \n",
    "    # If use summary, use summary stats instead of raw\n",
    "    if use_summary:\n",
    "        data = extract_summary_stats(epochs)\n",
    "    \n",
    "    # Fit pipe on all avalible data\n",
    "    pipe = get_pipe(model)\n",
    "    pipe.fit(data, labels)\n",
    "    \n",
    "    # Save pipeline and params\n",
    "    dump((pipe, params), save_name)\n",
    "    \n",
    "def test_eval(runs, params):\n",
    "    \n",
    "    epochs, ica_obj = conv_runs_to_epochs(runs, tmin=-2, tmax=1.9, **params)\n",
    "\n",
    "    # Get scores both ways\n",
    "    labels = epochs.events[:, -1]\n",
    "    eval_all(extract_summary_stats(epochs), labels, verbose=True)\n",
    "    eval_all(data=epochs.get_data(), labels=labels)\n",
    "    \n",
    "    return epochs"
   ]
  },
  {
   "cell_type": "code",
   "execution_count": 26,
   "id": "89f311e2",
   "metadata": {},
   "outputs": [],
   "source": [
    "#runs = load_runs('C:\\\\Users\\\\Sage\\\\Desktop\\\\predict_color\\\\data\\\\2_2_first')\n",
    "#runs = load_runs('C:\\\\Users\\\\Sage\\\\Desktop\\\\predict_color\\\\data\\\\2_2_new')\n",
    "#runs = load_runs('C:\\\\Users\\\\Sage\\\\Desktop\\\\predict_color\\\\data\\\\2_2_latest')\n",
    "#runs += load_runs('C:\\\\Users\\\\Sage\\\\Desktop\\\\predict_color\\\\data\\\\2_2_8_ch')\n"
   ]
  },
  {
   "cell_type": "code",
   "execution_count": 36,
   "id": "c3579bc5",
   "metadata": {},
   "outputs": [],
   "source": [
    "runs =  load_runs('C:\\\\Users\\\\Sage\\\\Desktop\\\\predict_color\\\\data\\\\7_colors')\n",
    "\n",
    "params = {'l_freq': None, 'h_freq': 10, 'auto_reject': 'ar', 'ica': [2], 'set_average_ref': True, 'apply_baseline': False, 'drop_ref_ch': True, 'crop': True}"
   ]
  },
  {
   "cell_type": "code",
   "execution_count": 37,
   "id": "d8c0ef99",
   "metadata": {},
   "outputs": [
    {
     "name": "stdout",
     "output_type": "stream",
     "text": [
      "logistic: 0.1402116402116402\n",
      "rf: 0.1402116402116402\n",
      "logistic: 0.1349206349206349\n",
      "rf: 0.1349206349206349\n"
     ]
    },
    {
     "data": {
      "text/html": [
       "\n",
       "<table class=\"table table-hover table-striped table-sm table-responsive small\">\n",
       "    <tr>\n",
       "        <th>Number of events</th>\n",
       "        <td>29</td>\n",
       "    </tr>\n",
       "    <tr>\n",
       "        <th>Events</th>\n",
       "        <td>#2CFCFC: 2<br>#844CD4: 2<br>#FC5C04: 3<br>#FCFB20: 4<br>Blue: 5<br>Green: 5<br>Red: 8<br></td>\n",
       "    </tr>\n",
       "    <tr>\n",
       "        <th>Time range</th>\n",
       "        <td>0.000 – 1.904 sec</td>\n",
       "    </tr>\n",
       "    <tr>\n",
       "        <th>Baseline</th>\n",
       "        <td>off</td>\n",
       "    </tr>\n",
       "</table>\n"
      ],
      "text/plain": [
       "<Epochs |  29 events (all good), 0 - 1.904 sec, baseline off, ~674 kB, data loaded,\n",
       " '#2CFCFC': 2\n",
       " '#844CD4': 2\n",
       " '#FC5C04': 3\n",
       " '#FCFB20': 4\n",
       " 'Blue': 5\n",
       " 'Green': 5\n",
       " 'Red': 8>"
      ]
     },
     "execution_count": 37,
     "metadata": {},
     "output_type": "execute_result"
    }
   ],
   "source": [
    "test_eval(runs, params)"
   ]
  },
  {
   "cell_type": "code",
   "execution_count": 30,
   "id": "da616982",
   "metadata": {},
   "outputs": [],
   "source": [
    "#train_and_save(params.copy(), runs, save_name='test_7_rf_raw.pkl', use_summary=False, model='rf')\n",
    "#train_and_save(params.copy(), runs, save_name='test_7_log.pkl', use_summary=True, model='logistic')"
   ]
  },
  {
   "cell_type": "code",
   "execution_count": 31,
   "id": "e3ad3ee4",
   "metadata": {},
   "outputs": [],
   "source": [
    "p_and_params1 = load('test_7_rf_raw.pkl')"
   ]
  },
  {
   "cell_type": "code",
   "execution_count": 34,
   "id": "0e8bf52b",
   "metadata": {},
   "outputs": [
    {
     "data": {
      "text/plain": [
       "('Red',\n",
       " {'Red': 0.22,\n",
       "  'Green': 0.12,\n",
       "  'Blue': 0.12,\n",
       "  '#FC5C04': 0.12,\n",
       "  '#844CD4': 0.14,\n",
       "  '#2CFCFC': 0.17,\n",
       "  '#FCFB20': 0.11})"
      ]
     },
     "execution_count": 34,
     "metadata": {},
     "output_type": "execute_result"
    }
   ],
   "source": [
    "predict_new(runs[7][:, 1000:3000], [p_and_params1])"
   ]
  },
  {
   "cell_type": "code",
   "execution_count": null,
   "id": "b8112e32",
   "metadata": {},
   "outputs": [],
   "source": [
    "stop"
   ]
  },
  {
   "cell_type": "markdown",
   "id": "a417dd47",
   "metadata": {},
   "source": [
    "## Use rest  of notebook for plotting / random exploration of data"
   ]
  },
  {
   "cell_type": "code",
   "execution_count": null,
   "id": "5501eac7",
   "metadata": {},
   "outputs": [],
   "source": [
    "mne.viz.plot_compare_evokeds(dict(red=epochs['Red'].average(),\n",
    "                                  blue=epochs['Blue'].average(),\n",
    "                                  green=epochs['Green'].average()))"
   ]
  },
  {
   "cell_type": "code",
   "execution_count": null,
   "id": "bd6edb64",
   "metadata": {},
   "outputs": [],
   "source": [
    "import matplotlib.pyplot as plt\n",
    "\n",
    "def get_start(run_data):\n",
    "    \n",
    "    event_labels = run_data[-1]\n",
    "    return np.where(event_labels == 1)[0][0]\n",
    "\n",
    "def plot_raw_run(run_data, event_labels=None):\n",
    "    \n",
    "    if event_labels is not None:\n",
    "        data = np.vstack([run_data._data, event_labels])\n",
    "    else:\n",
    "        data = run_data\n",
    "    \n",
    "    s = get_start(data)\n",
    "    \n",
    "    n_ch = len(data)-1\n",
    "    fig, axes = plt.subplots(n_ch, figsize=(10, 60))\n",
    "\n",
    "    for ch in range(n_ch):\n",
    "        axes[ch].plot(data[ch, s:])\n",
    "        \n",
    "runs = load_runs('C:\\\\Users\\\\Sage\\\\Desktop\\\\predict_color\\\\data\\\\2_2_latest')\n",
    "plot_raw_run(runs[4])"
   ]
  },
  {
   "cell_type": "code",
   "execution_count": null,
   "id": "825885e2",
   "metadata": {},
   "outputs": [],
   "source": [
    "frequencies = np.arange(1, 30, 3)\n",
    "power = mne.time_frequency.tfr_morlet(epochs, n_cycles=2, return_itc=False,\n",
    "                                      freqs=frequencies, decim=3)\n",
    "power.plot()"
   ]
  },
  {
   "cell_type": "code",
   "execution_count": null,
   "id": "a0a647e8",
   "metadata": {},
   "outputs": [],
   "source": [
    "# above 40 for latest\n",
    "\n",
    "array([{'l_freq': 12, 'h_freq': 30, 'auto_reject': 'ar', 'ica': [0], 'set_average_ref': True, 'apply_baseline': False, 'drop_ref_ch': True, 'crop': True},\n",
    "       {'l_freq': 1, 'h_freq': 50, 'auto_reject': None, 'ica': [1], 'set_average_ref': True, 'apply_baseline': False, 'drop_ref_ch': False, 'crop': True},\n",
    "       {'l_freq': 1, 'h_freq': 50, 'auto_reject': None, 'ica': [1], 'set_average_ref': True, 'apply_baseline': False, 'drop_ref_ch': True, 'crop': True},\n",
    "       {'l_freq': 1, 'h_freq': 50, 'auto_reject': None, 'ica': [0, 1], 'set_average_ref': True, 'apply_baseline': False, 'drop_ref_ch': True, 'crop': True},\n",
    "       {'l_freq': 1, 'h_freq': 10, 'auto_reject': None, 'ica': [1], 'set_average_ref': True, 'apply_baseline': False, 'drop_ref_ch': True, 'crop': True},\n",
    "       {'l_freq': 1, 'h_freq': 10, 'auto_reject': 'ar', 'ica': None, 'set_average_ref': True, 'apply_baseline': True, 'drop_ref_ch': False, 'crop': True},\n",
    "       {'l_freq': 5, 'h_freq': 10, 'auto_reject': None, 'ica': [2], 'set_average_ref': True, 'apply_baseline': True, 'drop_ref_ch': True, 'crop': True},\n",
    "       {'l_freq': 1, 'h_freq': 4, 'auto_reject': None, 'ica': [1], 'set_average_ref': True, 'apply_baseline': True, 'drop_ref_ch': True, 'crop': True},\n",
    "       {'l_freq': 1, 'h_freq': 4, 'auto_reject': 'ar', 'ica': None, 'set_average_ref': True, 'apply_baseline': True, 'drop_ref_ch': False, 'crop': True},\n",
    "       {'l_freq': 4, 'h_freq': 8, 'auto_reject': None, 'ica': None, 'set_average_ref': True, 'apply_baseline': True, 'drop_ref_ch': True, 'crop': True},\n",
    "       {'l_freq': 4, 'h_freq': 8, 'auto_reject': None, 'ica': [2], 'set_average_ref': True, 'apply_baseline': True, 'drop_ref_ch': True, 'crop': True},\n",
    "       {'l_freq': 8, 'h_freq': 13, 'auto_reject': None, 'ica': [0], 'set_average_ref': True, 'apply_baseline': False, 'drop_ref_ch': True, 'crop': True},\n",
    "       {'l_freq': 8, 'h_freq': 13, 'auto_reject': None, 'ica': [0, 1], 'set_average_ref': True, 'apply_baseline': False, 'drop_ref_ch': True, 'crop': True},\n",
    "       {'l_freq': 13, 'h_freq': 20, 'auto_reject': None, 'ica': [1], 'set_average_ref': True, 'apply_baseline': False, 'drop_ref_ch': True, 'crop': True},\n",
    "       {'l_freq': 13, 'h_freq': 20, 'auto_reject': None, 'ica': [1], 'set_average_ref': True, 'apply_baseline': True, 'drop_ref_ch': False, 'crop': True},\n",
    "       {'l_freq': 13, 'h_freq': 20, 'auto_reject': None, 'ica': [0, 1], 'set_average_ref': True, 'apply_baseline': True, 'drop_ref_ch': False, 'crop': True},\n",
    "       {'l_freq': 1, 'h_freq': None, 'auto_reject': None, 'ica': [0, 1], 'set_average_ref': True, 'apply_baseline': True, 'drop_ref_ch': False, 'crop': True},\n",
    "       {'l_freq': 1, 'h_freq': None, 'auto_reject': None, 'ica': [0, 1], 'set_average_ref': True, 'apply_baseline': True, 'drop_ref_ch': True, 'crop': True},\n",
    "       {'l_freq': 1, 'h_freq': None, 'auto_reject': 'ar', 'ica': [0, 1], 'set_average_ref': True, 'apply_baseline': True, 'drop_ref_ch': True, 'crop': True},\n",
    "       {'l_freq': 5, 'h_freq': None, 'auto_reject': None, 'ica': [0, 1], 'set_average_ref': True, 'apply_baseline': True, 'drop_ref_ch': False, 'crop': True},\n",
    "       {'l_freq': 5, 'h_freq': None, 'auto_reject': 'ar', 'ica': [0, 1], 'set_average_ref': True, 'apply_baseline': True, 'drop_ref_ch': False, 'crop': True},\n",
    "       {'l_freq': 5, 'h_freq': None, 'auto_reject': 'ar', 'ica': [0, 1], 'set_average_ref': True, 'apply_baseline': True, 'drop_ref_ch': True, 'crop': True},\n",
    "       {'l_freq': 20, 'h_freq': None, 'auto_reject': None, 'ica': None, 'set_average_ref': True, 'apply_baseline': True, 'drop_ref_ch': True, 'crop': True},\n",
    "       {'l_freq': 20, 'h_freq': None, 'auto_reject': None, 'ica': [0, 1], 'set_average_ref': True, 'apply_baseline': True, 'drop_ref_ch': False, 'crop': True},\n",
    "       {'l_freq': 20, 'h_freq': None, 'auto_reject': 'ar', 'ica': [0, 1], 'set_average_ref': True, 'apply_baseline': True, 'drop_ref_ch': False, 'crop': True},\n",
    "       {'l_freq': None, 'h_freq': 50, 'auto_reject': None, 'ica': [0, 1], 'set_average_ref': True, 'apply_baseline': True, 'drop_ref_ch': False, 'crop': True},\n",
    "       {'l_freq': None, 'h_freq': 50, 'auto_reject': 'ar', 'ica': [0, 1], 'set_average_ref': True, 'apply_baseline': True, 'drop_ref_ch': True, 'crop': True},\n",
    "       {'l_freq': None, 'h_freq': 20, 'auto_reject': None, 'ica': None, 'set_average_ref': True, 'apply_baseline': True, 'drop_ref_ch': False, 'crop': True},\n",
    "       {'l_freq': None, 'h_freq': 20, 'auto_reject': None, 'ica': None, 'set_average_ref': True, 'apply_baseline': True, 'drop_ref_ch': True, 'crop': True},\n",
    "       {'l_freq': None, 'h_freq': 10, 'auto_reject': None, 'ica': None, 'set_average_ref': True, 'apply_baseline': True, 'drop_ref_ch': True, 'crop': True},\n",
    "       {'l_freq': None, 'h_freq': 10, 'auto_reject': None, 'ica': [0, 1], 'set_average_ref': True, 'apply_baseline': True, 'drop_ref_ch': True, 'crop': True},\n",
    "       {'l_freq': None, 'h_freq': 10, 'auto_reject': 'ar', 'ica': [0, 1], 'set_average_ref': True, 'apply_baseline': True, 'drop_ref_ch': True, 'crop': True},\n",
    "       {'l_freq': 10, 'h_freq': 20, 'auto_reject': None, 'ica': None, 'set_average_ref': True, 'apply_baseline': True, 'drop_ref_ch': True, 'crop': True},\n",
    "       {'l_freq': 10, 'h_freq': 20, 'auto_reject': None, 'ica': [0, 1], 'set_average_ref': True, 'apply_baseline': False, 'drop_ref_ch': True, 'crop': True},\n",
    "       {'l_freq': 10, 'h_freq': 30, 'auto_reject': None, 'ica': [0], 'set_average_ref': True, 'apply_baseline': True, 'drop_ref_ch': False, 'crop': True},\n",
    "       {'l_freq': 10, 'h_freq': 30, 'auto_reject': 'ar', 'ica': None, 'set_average_ref': True, 'apply_baseline': True, 'drop_ref_ch': False, 'crop': True},\n",
    "       {'l_freq': 10, 'h_freq': 30, 'auto_reject': 'ar', 'ica': [0], 'set_average_ref': True, 'apply_baseline': False, 'drop_ref_ch': False, 'crop': True},\n",
    "       {'l_freq': 10, 'h_freq': 30, 'auto_reject': 'ar', 'ica': [0], 'set_average_ref': True, 'apply_baseline': False, 'drop_ref_ch': True, 'crop': True},\n",
    "       {'l_freq': 10, 'h_freq': 30, 'auto_reject': 'ar', 'ica': [0], 'set_average_ref': True, 'apply_baseline': True, 'drop_ref_ch': False, 'crop': True},\n",
    "       {'l_freq': 10, 'h_freq': 30, 'auto_reject': 'ar', 'ica': [0], 'set_average_ref': True, 'apply_baseline': True, 'drop_ref_ch': True, 'crop': True},\n",
    "       {'l_freq': 10, 'h_freq': 30, 'auto_reject': 'ar', 'ica': [1], 'set_average_ref': True, 'apply_baseline': True, 'drop_ref_ch': True, 'crop': True},\n",
    "       {'l_freq': 10, 'h_freq': 30, 'auto_reject': 'ar', 'ica': [0, 1], 'set_average_ref': True, 'apply_baseline': False, 'drop_ref_ch': False, 'crop': True},\n",
    "       {'l_freq': 10, 'h_freq': 30, 'auto_reject': 'ar', 'ica': [0, 1], 'set_average_ref': True, 'apply_baseline': False, 'drop_ref_ch': True, 'crop': True},\n",
    "       {'l_freq': 30, 'h_freq': 50, 'auto_reject': None, 'ica': [0], 'set_average_ref': True, 'apply_baseline': True, 'drop_ref_ch': True, 'crop': True},\n",
    "       {'l_freq': 30, 'h_freq': 50, 'auto_reject': 'ar', 'ica': [1], 'set_average_ref': True, 'apply_baseline': False, 'drop_ref_ch': False, 'crop': True},\n",
    "       {'l_freq': 30, 'h_freq': 50, 'auto_reject': 'ar', 'ica': [2], 'set_average_ref': True, 'apply_baseline': False, 'drop_ref_ch': False, 'crop': True},\n",
    "       {'l_freq': 30, 'h_freq': 50, 'auto_reject': 'ar', 'ica': [2], 'set_average_ref': True, 'apply_baseline': False, 'drop_ref_ch': True, 'crop': True},\n",
    "       {'l_freq': 30, 'h_freq': 50, 'auto_reject': 'ar', 'ica': [2], 'set_average_ref': True, 'apply_baseline': True, 'drop_ref_ch': False, 'crop': True},\n",
    "       {'l_freq': 30, 'h_freq': 50, 'auto_reject': 'ar', 'ica': [2], 'set_average_ref': True, 'apply_baseline': True, 'drop_ref_ch': True, 'crop': True},\n",
    "       {'l_freq': 30, 'h_freq': 50, 'auto_reject': 'ar', 'ica': [0, 1], 'set_average_ref': True, 'apply_baseline': False, 'drop_ref_ch': False, 'crop': True},\n",
    "       {'l_freq': 40, 'h_freq': 50, 'auto_reject': 'ar', 'ica': [2], 'set_average_ref': True, 'apply_baseline': False, 'drop_ref_ch': False, 'crop': True},\n",
    "       {'l_freq': 40, 'h_freq': 50, 'auto_reject': 'ar', 'ica': [2], 'set_average_ref': True, 'apply_baseline': False, 'drop_ref_ch': True, 'crop': True},\n",
    "       {'l_freq': 40, 'h_freq': 50, 'auto_reject': 'ar', 'ica': [2], 'set_average_ref': True, 'apply_baseline': True, 'drop_ref_ch': False, 'crop': True},\n",
    "       {'l_freq': None, 'h_freq': None, 'auto_reject': None, 'ica': [0, 1], 'set_average_ref': True, 'apply_baseline': True, 'drop_ref_ch': False, 'crop': True},\n",
    "       {'l_freq': None, 'h_freq': None, 'auto_reject': 'ar', 'ica': [0, 1], 'set_average_ref': True, 'apply_baseline': True, 'drop_ref_ch': True, 'crop': True}],\n",
    "      dtype=object)\n",
    "\n",
    "\n",
    "# all new\n",
    "\n",
    "{'l_freq': 8, 'h_freq': 13, 'auto_reject': None, 'ica': None, 'set_average_ref': True, 'apply_baseline': False, 'drop_ref_ch': True, 'crop': True}\n",
    "logistic: 0.4215024741340531\n",
    "rf: 0.3425551057130005\n",
    "    \n",
    "\n",
    "{'l_freq': 4, 'h_freq': 8, 'auto_reject': 'ar', 'ica': None, 'set_average_ref': True, 'apply_baseline': False, 'drop_ref_ch': True, 'crop': True}\n",
    "logistic: 0.3843882582272675\n",
    "rf: 0.4288002140427321\n",
    "\n",
    "{'l_freq': 4, 'h_freq': 8, 'auto_reject': 'ar', 'ica': [1], 'set_average_ref': True, 'apply_baseline': False, 'drop_ref_ch': False, 'crop': True}\n",
    "logistic: 0.3931429881894278\n",
    "rf: 0.37596797003401744\n",
    "    \n",
    "logistic: 0.3651435232962581\n",
    "rf: 0.39030692198906847\n",
    "{'l_freq': 4, 'h_freq': 8, 'auto_reject': 'ar', 'ica': [2], 'set_average_ref': True, 'apply_baseline': False, 'drop_ref_ch': False, 'crop': True}"
   ]
  },
  {
   "cell_type": "code",
   "execution_count": 12,
   "id": "141583e6",
   "metadata": {},
   "outputs": [],
   "source": [
    "import numpy as np"
   ]
  },
  {
   "cell_type": "code",
   "execution_count": 13,
   "id": "52cd6833",
   "metadata": {},
   "outputs": [],
   "source": [
    "buffer = np.random.random((17, 400))"
   ]
  },
  {
   "cell_type": "code",
   "execution_count": 14,
   "id": "facf9f20",
   "metadata": {},
   "outputs": [],
   "source": [
    "data = np.random.random((17, 342))"
   ]
  },
  {
   "cell_type": "code",
   "execution_count": 16,
   "id": "0aadfcf8",
   "metadata": {},
   "outputs": [],
   "source": [
    "predict_data = np.concatenate([buffer, data], axis=1)"
   ]
  },
  {
   "cell_type": "code",
   "execution_count": 18,
   "id": "677fa3f1",
   "metadata": {},
   "outputs": [
    {
     "data": {
      "text/plain": [
       "(17, 742)"
      ]
     },
     "execution_count": 18,
     "metadata": {},
     "output_type": "execute_result"
    }
   ],
   "source": [
    "predict_data.shape"
   ]
  },
  {
   "cell_type": "code",
   "execution_count": null,
   "id": "e8ffeeb5",
   "metadata": {},
   "outputs": [],
   "source": []
  }
 ],
 "metadata": {
  "kernelspec": {
   "display_name": "Python 3 (ipykernel)",
   "language": "python",
   "name": "python3"
  },
  "language_info": {
   "codemirror_mode": {
    "name": "ipython",
    "version": 3
   },
   "file_extension": ".py",
   "mimetype": "text/x-python",
   "name": "python",
   "nbconvert_exporter": "python",
   "pygments_lexer": "ipython3",
   "version": "3.9.7"
  }
 },
 "nbformat": 4,
 "nbformat_minor": 5
}

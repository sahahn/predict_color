{
 "cells": [
  {
   "cell_type": "markdown",
   "id": "ec581c37",
   "metadata": {},
   "source": [
    "## Load and setup data"
   ]
  },
  {
   "cell_type": "code",
   "execution_count": 1,
   "id": "d30041bb",
   "metadata": {},
   "outputs": [],
   "source": [
    "from load import load_runs, conv_runs_to_epochs\n",
    "from ml import eval_all\n",
    "import numpy as np"
   ]
  },
  {
   "cell_type": "code",
   "execution_count": 2,
   "id": "77d0b022",
   "metadata": {},
   "outputs": [],
   "source": [
    "runs = load_runs('C:\\\\Users\\\\Sage\\\\Desktop\\\\predict_color\\\\data\\\\2_2')\n",
    "#runs += load_runs('C:\\\\Users\\\\Sage\\\\Desktop\\\\predict_color\\\\data\\\\2_2_new')"
   ]
  },
  {
   "cell_type": "markdown",
   "id": "06499ae0",
   "metadata": {},
   "source": [
    "## Try over every possible combination of pre-processing parameters"
   ]
  },
  {
   "cell_type": "code",
   "execution_count": null,
   "id": "a4f3f3bd",
   "metadata": {},
   "outputs": [
    {
     "name": "stdout",
     "output_type": "stream",
     "text": [
      "{'l_freq': 1, 'h_freq': 50, 'auto_reject': None, 'ica': None, 'set_average_ref': True, 'apply_baseline': False, 'drop_ref_ch': False, 'crop': True}\n",
      "logistic: 0.308641975308642\n",
      "rf: 0.33365821962313186\n",
      "{'l_freq': 1, 'h_freq': 50, 'auto_reject': None, 'ica': None, 'set_average_ref': True, 'apply_baseline': False, 'drop_ref_ch': True, 'crop': True}\n",
      "logistic: 0.2969460688758934\n",
      "rf: 0.23749187784275505\n",
      "{'l_freq': 1, 'h_freq': 50, 'auto_reject': None, 'ica': None, 'set_average_ref': True, 'apply_baseline': True, 'drop_ref_ch': False, 'crop': True}\n",
      "logistic: 0.290448343079922\n",
      "rf: 0.2553606237816764\n",
      "{'l_freq': 1, 'h_freq': 50, 'auto_reject': None, 'ica': None, 'set_average_ref': True, 'apply_baseline': True, 'drop_ref_ch': True, 'crop': True}\n",
      "logistic: 0.27225471085120206\n",
      "rf: 0.2605588044184535\n",
      "{'l_freq': 1, 'h_freq': 50, 'auto_reject': None, 'ica': [0], 'set_average_ref': True, 'apply_baseline': False, 'drop_ref_ch': False, 'crop': True}\n",
      "logistic: 0.3645224171539961\n",
      "rf: 0.29077322936972055\n",
      "{'l_freq': 1, 'h_freq': 50, 'auto_reject': None, 'ica': [0], 'set_average_ref': True, 'apply_baseline': False, 'drop_ref_ch': True, 'crop': True}\n",
      "logistic: 0.3648473034437947\n",
      "rf: 0.2846003898635478\n",
      "{'l_freq': 1, 'h_freq': 50, 'auto_reject': None, 'ica': [0], 'set_average_ref': True, 'apply_baseline': True, 'drop_ref_ch': False, 'crop': True}\n",
      "logistic: 0.37686809616634176\n",
      "rf: 0.3333333333333333\n",
      "{'l_freq': 1, 'h_freq': 50, 'auto_reject': None, 'ica': [0], 'set_average_ref': True, 'apply_baseline': True, 'drop_ref_ch': True, 'crop': True}\n",
      "logistic: 0.35867446393762187\n",
      "rf: 0.26088369070825207\n",
      "{'l_freq': 1, 'h_freq': 50, 'auto_reject': None, 'ica': [1], 'set_average_ref': True, 'apply_baseline': False, 'drop_ref_ch': False, 'crop': True}\n"
     ]
    }
   ],
   "source": [
    "all_scores = []\n",
    "all_params = []\n",
    "\n",
    "for lh_freq in [(1, 50), (1, 10), (5, 10),\n",
    "                (1, 4),  (4,  8),  (8, 13),  (13, 30),\n",
    "                (1, None), (5, None),  (20, None),\n",
    "                (None, 50), (None, 20), (None, 10),\n",
    "                (10, 20), (10, 30), (30, 50), (40, 50), (None, None)]:\n",
    "    for auto_reject in [None, 'ar']:\n",
    "        for ica in [None, [0], [1], [2], [0, 1]]:\n",
    "            for set_average_ref in [True]:\n",
    "                for apply_baseline in [False, True]:\n",
    "                    for drop_ref_ch in [False, True]:\n",
    "                                \n",
    "                        params = {'l_freq': lh_freq[0],\n",
    "                                  'h_freq': lh_freq[1],\n",
    "                                  'auto_reject': auto_reject,\n",
    "                                  'ica': ica,\n",
    "                                  'set_average_ref': set_average_ref,\n",
    "                                  'apply_baseline': apply_baseline,\n",
    "                                  'drop_ref_ch': drop_ref_ch,\n",
    "                                  'crop': True}\n",
    "\n",
    "                        all_params.append(params)\n",
    "                        print(params)\n",
    "\n",
    "                        # Get epochs w/ these params\n",
    "                        epochs = conv_runs_to_epochs(runs, tmin=-2, tmax=1.9,  **params)\n",
    "\n",
    "                        # Get score\n",
    "                        score = eval_all(data=epochs.get_data(),\n",
    "                                         labels=epochs.events[:, -1])\n",
    "                        all_scores.append(score)    "
   ]
  },
  {
   "cell_type": "code",
   "execution_count": null,
   "id": "5fad0cfd",
   "metadata": {},
   "outputs": [],
   "source": []
  }
 ],
 "metadata": {
  "kernelspec": {
   "display_name": "Python 3 (ipykernel)",
   "language": "python",
   "name": "python3"
  },
  "language_info": {
   "codemirror_mode": {
    "name": "ipython",
    "version": 3
   },
   "file_extension": ".py",
   "mimetype": "text/x-python",
   "name": "python",
   "nbconvert_exporter": "python",
   "pygments_lexer": "ipython3",
   "version": "3.9.7"
  }
 },
 "nbformat": 4,
 "nbformat_minor": 5
}

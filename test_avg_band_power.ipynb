{
 "cells": [
  {
   "cell_type": "markdown",
   "id": "42591e8d",
   "metadata": {},
   "source": [
    "## Setup and Load Data"
   ]
  },
  {
   "cell_type": "code",
   "execution_count": 1,
   "id": "07d66793",
   "metadata": {},
   "outputs": [],
   "source": [
    "from load import load_runs, extract_avg_power, split_by\n",
    "from ml import eval_all"
   ]
  },
  {
   "cell_type": "code",
   "execution_count": 2,
   "id": "7257707c",
   "metadata": {},
   "outputs": [
    {
     "data": {
      "text/plain": [
       "11"
      ]
     },
     "execution_count": 2,
     "metadata": {},
     "output_type": "execute_result"
    }
   ],
   "source": [
    "data_dr = 'C:\\\\Users\\\\Sage\\\\Desktop\\\\predict_color\\\\data\\\\2_2'\n",
    "runs = load_runs(data_dr)\n",
    "len(runs)"
   ]
  },
  {
   "cell_type": "code",
   "execution_count": 3,
   "id": "6f495ccd",
   "metadata": {},
   "outputs": [
    {
     "data": {
      "text/plain": [
       "dict_keys([1.0, 4.0, 2.0, 3.0])"
      ]
     },
     "execution_count": 3,
     "metadata": {},
     "output_type": "execute_result"
    }
   ],
   "source": [
    "feats = extract_avg_power(runs)\n",
    "feats.keys()"
   ]
  },
  {
   "cell_type": "markdown",
   "id": "0290dff0",
   "metadata": {},
   "source": [
    "## Background vs. Any Color"
   ]
  },
  {
   "cell_type": "code",
   "execution_count": 4,
   "id": "0eef6346",
   "metadata": {},
   "outputs": [
    {
     "name": "stdout",
     "output_type": "stream",
     "text": [
      "logistic: 0.7454545454545454\n",
      "logistic_cv: 0.7575757575757575\n",
      "rf: 0.7666666666666666\n"
     ]
    }
   ],
   "source": [
    "data, labels = split_by(feats, g1=[1], g2=[2, 3, 4])\n",
    "eval_all(data, labels)"
   ]
  },
  {
   "cell_type": "markdown",
   "id": "c606236f",
   "metadata": {},
   "source": [
    "## Red vs. Green"
   ]
  },
  {
   "cell_type": "code",
   "execution_count": 5,
   "id": "fb2cd994",
   "metadata": {},
   "outputs": [
    {
     "name": "stdout",
     "output_type": "stream",
     "text": [
      "logistic: 0.4545454545454545\n",
      "logistic_cv: 0.4727272727272728\n",
      "rf: 0.37272727272727274\n"
     ]
    }
   ],
   "source": [
    "data, labels = split_by(feats, g1=[2], g2=[3])\n",
    "eval_all(data, labels)"
   ]
  },
  {
   "cell_type": "markdown",
   "id": "14bf7d2d",
   "metadata": {},
   "source": [
    "## Red vs. Blue"
   ]
  },
  {
   "cell_type": "code",
   "execution_count": 6,
   "id": "383aa35a",
   "metadata": {},
   "outputs": [
    {
     "name": "stdout",
     "output_type": "stream",
     "text": [
      "logistic: 0.38181818181818183\n",
      "logistic_cv: 0.42727272727272725\n",
      "rf: 0.32727272727272727\n"
     ]
    }
   ],
   "source": [
    "data, labels = split_by(feats, g1=[2], g2=[4])\n",
    "eval_all(data, labels)"
   ]
  },
  {
   "cell_type": "markdown",
   "id": "978f99e3",
   "metadata": {},
   "source": [
    "## Green vs. Blue"
   ]
  },
  {
   "cell_type": "code",
   "execution_count": 7,
   "id": "9ff2cb44",
   "metadata": {},
   "outputs": [
    {
     "name": "stdout",
     "output_type": "stream",
     "text": [
      "logistic: 0.5\n",
      "logistic_cv: 0.5272727272727272\n",
      "rf: 0.43636363636363634\n"
     ]
    }
   ],
   "source": [
    "data, labels = split_by(feats, g1=[3], g2=[4])\n",
    "eval_all(data, labels)"
   ]
  }
 ],
 "metadata": {
  "kernelspec": {
   "display_name": "Python 3 (ipykernel)",
   "language": "python",
   "name": "python3"
  },
  "language_info": {
   "codemirror_mode": {
    "name": "ipython",
    "version": 3
   },
   "file_extension": ".py",
   "mimetype": "text/x-python",
   "name": "python",
   "nbconvert_exporter": "python",
   "pygments_lexer": "ipython3",
   "version": "3.9.7"
  }
 },
 "nbformat": 4,
 "nbformat_minor": 5
}

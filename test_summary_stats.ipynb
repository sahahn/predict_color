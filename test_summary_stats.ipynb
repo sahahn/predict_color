{
 "cells": [
  {
   "cell_type": "markdown",
   "id": "91fc1e2b",
   "metadata": {},
   "source": [
    "## Load and setup data"
   ]
  },
  {
   "cell_type": "code",
   "execution_count": 1,
   "id": "debec65b",
   "metadata": {},
   "outputs": [],
   "source": [
    "from load import load_runs, conv_runs_to_epochs, extract_summary_stats\n",
    "from ml import eval_all"
   ]
  },
  {
   "cell_type": "code",
   "execution_count": 2,
   "id": "85b73e4a",
   "metadata": {},
   "outputs": [],
   "source": [
    "#runs = load_runs('C:\\\\Users\\\\Sage\\\\Desktop\\\\predict_color\\\\data\\\\2_2')\n",
    "runs = load_runs('C:\\\\Users\\\\Sage\\\\Desktop\\\\predict_color\\\\data\\\\2_2_new')"
   ]
  },
  {
   "cell_type": "markdown",
   "id": "cd5dfe9c",
   "metadata": {},
   "source": [
    "## Try a wide range of different pre-processing options"
   ]
  },
  {
   "cell_type": "code",
   "execution_count": null,
   "id": "3229291b",
   "metadata": {},
   "outputs": [
    {
     "name": "stdout",
     "output_type": "stream",
     "text": [
      "{'l_freq': 1, 'h_freq': 50, 'auto_reject': None, 'ica': None, 'set_average_ref': True, 'apply_baseline': False, 'drop_ref_ch': False, 'crop': True}\n",
      "logistic: 0.31746031746031744\n",
      "rf: 0.2989417989417989\n",
      "{'l_freq': 1, 'h_freq': 50, 'auto_reject': None, 'ica': None, 'set_average_ref': True, 'apply_baseline': False, 'drop_ref_ch': True, 'crop': True}\n",
      "logistic: 0.25661375661375657\n",
      "rf: 0.25132275132275134\n",
      "{'l_freq': 1, 'h_freq': 50, 'auto_reject': None, 'ica': None, 'set_average_ref': True, 'apply_baseline': True, 'drop_ref_ch': False, 'crop': True}\n",
      "logistic: 0.30158730158730157\n",
      "rf: 0.31216931216931215\n",
      "{'l_freq': 1, 'h_freq': 50, 'auto_reject': None, 'ica': None, 'set_average_ref': True, 'apply_baseline': True, 'drop_ref_ch': True, 'crop': True}\n",
      "logistic: 0.25396825396825395\n",
      "rf: 0.30158730158730157\n",
      "{'l_freq': 1, 'h_freq': 50, 'auto_reject': None, 'ica': [0], 'set_average_ref': True, 'apply_baseline': False, 'drop_ref_ch': False, 'crop': True}\n",
      "logistic: 0.2328042328042328\n",
      "rf: 0.23544973544973546\n",
      "{'l_freq': 1, 'h_freq': 50, 'auto_reject': None, 'ica': [0], 'set_average_ref': True, 'apply_baseline': False, 'drop_ref_ch': True, 'crop': True}\n",
      "logistic: 0.23280423280423276\n",
      "rf: 0.2804232804232804\n",
      "{'l_freq': 1, 'h_freq': 50, 'auto_reject': None, 'ica': [0], 'set_average_ref': True, 'apply_baseline': True, 'drop_ref_ch': False, 'crop': True}\n",
      "logistic: 0.2328042328042328\n",
      "rf: 0.3386243386243386\n",
      "{'l_freq': 1, 'h_freq': 50, 'auto_reject': None, 'ica': [0], 'set_average_ref': True, 'apply_baseline': True, 'drop_ref_ch': True, 'crop': True}\n",
      "logistic: 0.2486772486772486\n",
      "rf: 0.3148148148148148\n",
      "{'l_freq': 1, 'h_freq': 50, 'auto_reject': None, 'ica': [1], 'set_average_ref': True, 'apply_baseline': False, 'drop_ref_ch': False, 'crop': True}\n",
      "logistic: 0.2989417989417989\n",
      "rf: 0.3465608465608465\n",
      "{'l_freq': 1, 'h_freq': 50, 'auto_reject': None, 'ica': [1], 'set_average_ref': True, 'apply_baseline': False, 'drop_ref_ch': True, 'crop': True}\n",
      "logistic: 0.2645502645502646\n",
      "rf: 0.2328042328042328\n",
      "{'l_freq': 1, 'h_freq': 50, 'auto_reject': None, 'ica': [1], 'set_average_ref': True, 'apply_baseline': True, 'drop_ref_ch': False, 'crop': True}\n",
      "logistic: 0.30158730158730157\n",
      "rf: 0.2486772486772487\n",
      "{'l_freq': 1, 'h_freq': 50, 'auto_reject': None, 'ica': [1], 'set_average_ref': True, 'apply_baseline': True, 'drop_ref_ch': True, 'crop': True}\n",
      "logistic: 0.2645502645502646\n",
      "rf: 0.25396825396825395\n",
      "{'l_freq': 1, 'h_freq': 50, 'auto_reject': None, 'ica': [2], 'set_average_ref': True, 'apply_baseline': False, 'drop_ref_ch': False, 'crop': True}\n",
      "logistic: 0.25396825396825395\n",
      "rf: 0.2645502645502646\n",
      "{'l_freq': 1, 'h_freq': 50, 'auto_reject': None, 'ica': [2], 'set_average_ref': True, 'apply_baseline': False, 'drop_ref_ch': True, 'crop': True}\n",
      "logistic: 0.2724867724867725\n",
      "rf: 0.2989417989417989\n",
      "{'l_freq': 1, 'h_freq': 50, 'auto_reject': None, 'ica': [2], 'set_average_ref': True, 'apply_baseline': True, 'drop_ref_ch': False, 'crop': True}\n",
      "logistic: 0.2883597883597883\n",
      "rf: 0.23544973544973546\n",
      "{'l_freq': 1, 'h_freq': 50, 'auto_reject': None, 'ica': [2], 'set_average_ref': True, 'apply_baseline': True, 'drop_ref_ch': True, 'crop': True}\n",
      "logistic: 0.3253968253968254\n",
      "rf: 0.25132275132275134\n",
      "{'l_freq': 1, 'h_freq': 50, 'auto_reject': None, 'ica': [0, 1], 'set_average_ref': True, 'apply_baseline': False, 'drop_ref_ch': False, 'crop': True}\n",
      "logistic: 0.2328042328042328\n",
      "rf: 0.25132275132275134\n",
      "{'l_freq': 1, 'h_freq': 50, 'auto_reject': None, 'ica': [0, 1], 'set_average_ref': True, 'apply_baseline': False, 'drop_ref_ch': True, 'crop': True}\n",
      "logistic: 0.24603174603174605\n",
      "rf: 0.30158730158730157\n",
      "{'l_freq': 1, 'h_freq': 50, 'auto_reject': None, 'ica': [0, 1], 'set_average_ref': True, 'apply_baseline': True, 'drop_ref_ch': False, 'crop': True}\n",
      "logistic: 0.2328042328042328\n",
      "rf: 0.30423280423280424\n",
      "{'l_freq': 1, 'h_freq': 50, 'auto_reject': None, 'ica': [0, 1], 'set_average_ref': True, 'apply_baseline': True, 'drop_ref_ch': True, 'crop': True}\n",
      "logistic: 0.2486772486772487\n",
      "rf: 0.1984126984126984\n",
      "{'l_freq': 1, 'h_freq': 50, 'auto_reject': 'ar', 'ica': None, 'set_average_ref': True, 'apply_baseline': False, 'drop_ref_ch': False, 'crop': True}\n",
      "logistic: 0.291005291005291\n",
      "rf: 0.2724867724867725\n",
      "{'l_freq': 1, 'h_freq': 50, 'auto_reject': 'ar', 'ica': None, 'set_average_ref': True, 'apply_baseline': False, 'drop_ref_ch': True, 'crop': True}\n"
     ]
    }
   ],
   "source": [
    "all_scores = []\n",
    "all_params = []\n",
    "\n",
    "for lh_freq in [(1, 50), (1, 10), (5, 10),\n",
    "                (1, 4),  (4,  8),  (8, 13),  (13, 30),\n",
    "                (1, None), (5, None),  (20, None),\n",
    "                (None, 50), (None, 20), (None, 10),\n",
    "                (10, 20), (10, 30), (30, 50), (40, 50), (None, None)]:\n",
    "    for auto_reject in [None, 'ar']:\n",
    "        for ica in [None, [0], [1], [2], [0, 1]]:\n",
    "            for set_average_ref in [True]:\n",
    "                for apply_baseline in [False, True]:\n",
    "                    for drop_ref_ch in [False, True]:\n",
    "                                \n",
    "                        params = {'l_freq': lh_freq[0],\n",
    "                                  'h_freq': lh_freq[1],\n",
    "                                  'auto_reject': auto_reject,\n",
    "                                  'ica': ica,\n",
    "                                  'set_average_ref': set_average_ref,\n",
    "                                  'apply_baseline': apply_baseline,\n",
    "                                  'drop_ref_ch': drop_ref_ch,\n",
    "                                  'crop': True}\n",
    "\n",
    "                        all_params.append(params)\n",
    "                        print(params)\n",
    "\n",
    "                        # Get epochs w/ these params\n",
    "                        epochs = conv_runs_to_epochs(runs, tmin=-2, tmax=1.9,  **params)\n",
    "\n",
    "                        # Extract summary\n",
    "                        data = extract_summary_stats(epochs)\n",
    "                        labels = epochs.events[:, -1]\n",
    "\n",
    "                        # Get score\n",
    "                        score = eval_all(data, labels, verbose=True)\n",
    "                        all_scores.append(score)                       "
   ]
  },
  {
   "cell_type": "code",
   "execution_count": null,
   "id": "f564629b",
   "metadata": {},
   "outputs": [],
   "source": []
  }
 ],
 "metadata": {
  "kernelspec": {
   "display_name": "Python 3 (ipykernel)",
   "language": "python",
   "name": "python3"
  },
  "language_info": {
   "codemirror_mode": {
    "name": "ipython",
    "version": 3
   },
   "file_extension": ".py",
   "mimetype": "text/x-python",
   "name": "python",
   "nbconvert_exporter": "python",
   "pygments_lexer": "ipython3",
   "version": "3.9.7"
  }
 },
 "nbformat": 4,
 "nbformat_minor": 5
}

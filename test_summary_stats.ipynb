{
 "cells": [
  {
   "cell_type": "markdown",
   "id": "94c120ad",
   "metadata": {},
   "source": [
    "## Load and setup data"
   ]
  },
  {
   "cell_type": "code",
   "execution_count": 1,
   "id": "debec65b",
   "metadata": {},
   "outputs": [],
   "source": [
    "from load import load_runs, conv_runs_to_epochs, extract_summary_stats\n",
    "from ml import eval_all"
   ]
  },
  {
   "cell_type": "code",
   "execution_count": 2,
   "id": "85b73e4a",
   "metadata": {},
   "outputs": [
    {
     "data": {
      "text/plain": [
       "11"
      ]
     },
     "execution_count": 2,
     "metadata": {},
     "output_type": "execute_result"
    }
   ],
   "source": [
    "data_dr = 'C:\\\\Users\\\\Sage\\\\Desktop\\\\predict_color\\\\data\\\\2_2'\n",
    "runs = load_runs(data_dr)\n",
    "len(runs)"
   ]
  },
  {
   "cell_type": "markdown",
   "id": "c7107513",
   "metadata": {},
   "source": [
    "## First try loading w/ just baseline correction"
   ]
  },
  {
   "cell_type": "code",
   "execution_count": 3,
   "id": "6df38a54",
   "metadata": {},
   "outputs": [
    {
     "data": {
      "text/html": [
       "\n",
       "<table class=\"table table-hover table-striped table-sm table-responsive small\">\n",
       "    <tr>\n",
       "        <th>Number of events</th>\n",
       "        <td>165</td>\n",
       "    </tr>\n",
       "    <tr>\n",
       "        <th>Events</th>\n",
       "        <td>Blue: 55<br>Green: 55<br>Red: 55<br></td>\n",
       "    </tr>\n",
       "    <tr>\n",
       "        <th>Time range</th>\n",
       "        <td>-2.000 – 1.904 sec</td>\n",
       "    </tr>\n",
       "    <tr>\n",
       "        <th>Baseline</th>\n",
       "        <td>off</td>\n",
       "    </tr>\n",
       "</table>\n"
      ],
      "text/plain": [
       "<Epochs |  165 events (all good), -2 - 1.904 sec, baseline off, ~9.9 MB, data loaded,\n",
       " 'Blue': 55\n",
       " 'Green': 55\n",
       " 'Red': 55>"
      ]
     },
     "execution_count": 3,
     "metadata": {},
     "output_type": "execute_result"
    }
   ],
   "source": [
    "epochs = conv_runs_to_epochs(runs,\n",
    "                             l_freq=None, h_freq=None,\n",
    "                             tmin=-2, tmax=1.9,\n",
    "                             auto_reject=False, ica=None,\n",
    "                             set_average_ref=True,\n",
    "                             apply_baseline=False,\n",
    "                             drop_ref_ch=False,\n",
    "                             crop=False)\n",
    "epochs"
   ]
  },
  {
   "cell_type": "code",
   "execution_count": 4,
   "id": "33e96317",
   "metadata": {},
   "outputs": [
    {
     "name": "stdout",
     "output_type": "stream",
     "text": [
      "logistic: 0.2545454545454545\n",
      "rf: 0.2545454545454545\n"
     ]
    },
    {
     "data": {
      "text/plain": [
       "0.2545454545454545"
      ]
     },
     "execution_count": 4,
     "metadata": {},
     "output_type": "execute_result"
    }
   ],
   "source": [
    "# Extract summary stats\n",
    "data = extract_summary_stats(epochs)\n",
    "labels = epochs.events[:, -1]\n",
    "\n",
    "# Evaluate classifiers\n",
    "eval_all(data, labels)"
   ]
  },
  {
   "cell_type": "code",
   "execution_count": null,
   "id": "a0239fa5",
   "metadata": {},
   "outputs": [],
   "source": []
  },
  {
   "cell_type": "markdown",
   "id": "70beaf01",
   "metadata": {},
   "source": [
    "## Try a wide range of different pre-processing options"
   ]
  },
  {
   "cell_type": "code",
   "execution_count": null,
   "id": "3260439f",
   "metadata": {},
   "outputs": [
    {
     "name": "stdout",
     "output_type": "stream",
     "text": [
      "{'l_freq': None, 'h_freq': None, 'auto_reject': None, 'ica': None, 'set_average_ref': False, 'apply_baseline': False, 'drop_ref_ch': False, 'crop': False}\n",
      "logistic: 0.24848484848484848\n",
      "rf: 0.2303030303030303\n",
      "{'l_freq': None, 'h_freq': None, 'auto_reject': None, 'ica': None, 'set_average_ref': False, 'apply_baseline': False, 'drop_ref_ch': False, 'crop': True}\n",
      "logistic: 0.24848484848484848\n",
      "rf: 0.19999999999999998\n",
      "{'l_freq': None, 'h_freq': None, 'auto_reject': None, 'ica': None, 'set_average_ref': False, 'apply_baseline': False, 'drop_ref_ch': True, 'crop': False}\n",
      "logistic: 0.26666666666666666\n",
      "rf: 0.2606060606060606\n",
      "{'l_freq': None, 'h_freq': None, 'auto_reject': None, 'ica': None, 'set_average_ref': False, 'apply_baseline': False, 'drop_ref_ch': True, 'crop': True}\n",
      "logistic: 0.20606060606060606\n",
      "rf: 0.2545454545454545\n",
      "{'l_freq': None, 'h_freq': None, 'auto_reject': None, 'ica': None, 'set_average_ref': False, 'apply_baseline': True, 'drop_ref_ch': False, 'crop': False}\n",
      "logistic: 0.2909090909090909\n",
      "rf: 0.2909090909090909\n",
      "{'l_freq': None, 'h_freq': None, 'auto_reject': None, 'ica': None, 'set_average_ref': False, 'apply_baseline': True, 'drop_ref_ch': False, 'crop': True}\n",
      "logistic: 0.24242424242424243\n",
      "rf: 0.2909090909090909\n",
      "{'l_freq': None, 'h_freq': None, 'auto_reject': None, 'ica': None, 'set_average_ref': False, 'apply_baseline': True, 'drop_ref_ch': True, 'crop': False}\n",
      "logistic: 0.30303030303030304\n",
      "rf: 0.28484848484848485\n",
      "{'l_freq': None, 'h_freq': None, 'auto_reject': None, 'ica': None, 'set_average_ref': False, 'apply_baseline': True, 'drop_ref_ch': True, 'crop': True}\n",
      "logistic: 0.22424242424242427\n",
      "rf: 0.2909090909090909\n",
      "{'l_freq': None, 'h_freq': None, 'auto_reject': None, 'ica': None, 'set_average_ref': True, 'apply_baseline': False, 'drop_ref_ch': False, 'crop': False}\n",
      "logistic: 0.2545454545454545\n",
      "rf: 0.2303030303030303\n",
      "{'l_freq': None, 'h_freq': None, 'auto_reject': None, 'ica': None, 'set_average_ref': True, 'apply_baseline': False, 'drop_ref_ch': False, 'crop': True}\n",
      "logistic: 0.22424242424242427\n",
      "rf: 0.20606060606060606\n",
      "{'l_freq': None, 'h_freq': None, 'auto_reject': None, 'ica': None, 'set_average_ref': True, 'apply_baseline': False, 'drop_ref_ch': True, 'crop': False}\n",
      "logistic: 0.27878787878787875\n",
      "rf: 0.2606060606060606\n",
      "{'l_freq': None, 'h_freq': None, 'auto_reject': None, 'ica': None, 'set_average_ref': True, 'apply_baseline': False, 'drop_ref_ch': True, 'crop': True}\n",
      "logistic: 0.2727272727272727\n",
      "rf: 0.2\n",
      "{'l_freq': None, 'h_freq': None, 'auto_reject': None, 'ica': None, 'set_average_ref': True, 'apply_baseline': True, 'drop_ref_ch': False, 'crop': False}\n",
      "logistic: 0.32121212121212117\n",
      "rf: 0.3333333333333333\n",
      "{'l_freq': None, 'h_freq': None, 'auto_reject': None, 'ica': None, 'set_average_ref': True, 'apply_baseline': True, 'drop_ref_ch': False, 'crop': True}\n",
      "logistic: 0.3151515151515151\n",
      "rf: 0.2727272727272727\n",
      "{'l_freq': None, 'h_freq': None, 'auto_reject': None, 'ica': None, 'set_average_ref': True, 'apply_baseline': True, 'drop_ref_ch': True, 'crop': False}\n",
      "logistic: 0.3090909090909091\n",
      "rf: 0.296969696969697\n",
      "{'l_freq': None, 'h_freq': None, 'auto_reject': None, 'ica': None, 'set_average_ref': True, 'apply_baseline': True, 'drop_ref_ch': True, 'crop': True}\n",
      "logistic: 0.30303030303030304\n",
      "rf: 0.2909090909090909\n",
      "{'l_freq': None, 'h_freq': None, 'auto_reject': None, 'ica': [0], 'set_average_ref': False, 'apply_baseline': False, 'drop_ref_ch': False, 'crop': False}\n",
      "logistic: 0.28484848484848485\n",
      "rf: 0.17575757575757575\n",
      "{'l_freq': None, 'h_freq': None, 'auto_reject': None, 'ica': [0], 'set_average_ref': False, 'apply_baseline': False, 'drop_ref_ch': False, 'crop': True}\n",
      "logistic: 0.2848484848484848\n",
      "rf: 0.18787878787878787\n",
      "{'l_freq': None, 'h_freq': None, 'auto_reject': None, 'ica': [0], 'set_average_ref': False, 'apply_baseline': False, 'drop_ref_ch': True, 'crop': False}\n",
      "logistic: 0.2545454545454545\n",
      "rf: 0.2181818181818182\n",
      "{'l_freq': None, 'h_freq': None, 'auto_reject': None, 'ica': [0], 'set_average_ref': False, 'apply_baseline': False, 'drop_ref_ch': True, 'crop': True}\n",
      "logistic: 0.2363636363636364\n",
      "rf: 0.23636363636363633\n",
      "{'l_freq': None, 'h_freq': None, 'auto_reject': None, 'ica': [0], 'set_average_ref': False, 'apply_baseline': True, 'drop_ref_ch': False, 'crop': False}\n",
      "logistic: 0.32727272727272727\n",
      "rf: 0.27878787878787875\n",
      "{'l_freq': None, 'h_freq': None, 'auto_reject': None, 'ica': [0], 'set_average_ref': False, 'apply_baseline': True, 'drop_ref_ch': False, 'crop': True}\n",
      "logistic: 0.2727272727272727\n",
      "rf: 0.27878787878787875\n",
      "{'l_freq': None, 'h_freq': None, 'auto_reject': None, 'ica': [0], 'set_average_ref': False, 'apply_baseline': True, 'drop_ref_ch': True, 'crop': False}\n",
      "logistic: 0.29696969696969694\n",
      "rf: 0.2545454545454545\n",
      "{'l_freq': None, 'h_freq': None, 'auto_reject': None, 'ica': [0], 'set_average_ref': False, 'apply_baseline': True, 'drop_ref_ch': True, 'crop': True}\n",
      "logistic: 0.2848484848484848\n",
      "rf: 0.2909090909090909\n",
      "{'l_freq': None, 'h_freq': None, 'auto_reject': None, 'ica': [0], 'set_average_ref': True, 'apply_baseline': False, 'drop_ref_ch': False, 'crop': False}\n",
      "logistic: 0.296969696969697\n",
      "rf: 0.296969696969697\n",
      "{'l_freq': None, 'h_freq': None, 'auto_reject': None, 'ica': [0], 'set_average_ref': True, 'apply_baseline': False, 'drop_ref_ch': False, 'crop': True}\n",
      "logistic: 0.303030303030303\n",
      "rf: 0.18181818181818182\n",
      "{'l_freq': None, 'h_freq': None, 'auto_reject': None, 'ica': [0], 'set_average_ref': True, 'apply_baseline': False, 'drop_ref_ch': True, 'crop': False}\n",
      "logistic: 0.3151515151515151\n",
      "rf: 0.24242424242424243\n",
      "{'l_freq': None, 'h_freq': None, 'auto_reject': None, 'ica': [0], 'set_average_ref': True, 'apply_baseline': False, 'drop_ref_ch': True, 'crop': True}\n",
      "logistic: 0.27878787878787875\n",
      "rf: 0.16363636363636364\n",
      "{'l_freq': None, 'h_freq': None, 'auto_reject': None, 'ica': [0], 'set_average_ref': True, 'apply_baseline': True, 'drop_ref_ch': False, 'crop': False}\n",
      "logistic: 0.35151515151515145\n",
      "rf: 0.2848484848484848\n",
      "{'l_freq': None, 'h_freq': None, 'auto_reject': None, 'ica': [0], 'set_average_ref': True, 'apply_baseline': True, 'drop_ref_ch': False, 'crop': True}\n",
      "logistic: 0.28484848484848485\n",
      "rf: 0.23030303030303031\n",
      "{'l_freq': None, 'h_freq': None, 'auto_reject': None, 'ica': [0], 'set_average_ref': True, 'apply_baseline': True, 'drop_ref_ch': True, 'crop': False}\n",
      "logistic: 0.33333333333333337\n",
      "rf: 0.2666666666666667\n",
      "{'l_freq': None, 'h_freq': None, 'auto_reject': None, 'ica': [0], 'set_average_ref': True, 'apply_baseline': True, 'drop_ref_ch': True, 'crop': True}\n",
      "logistic: 0.2727272727272727\n",
      "rf: 0.23636363636363633\n",
      "{'l_freq': None, 'h_freq': None, 'auto_reject': None, 'ica': [1], 'set_average_ref': False, 'apply_baseline': False, 'drop_ref_ch': False, 'crop': False}\n",
      "logistic: 0.28484848484848485\n",
      "rf: 0.26666666666666666\n",
      "{'l_freq': None, 'h_freq': None, 'auto_reject': None, 'ica': [1], 'set_average_ref': False, 'apply_baseline': False, 'drop_ref_ch': False, 'crop': True}\n",
      "logistic: 0.3333333333333333\n",
      "rf: 0.309090909090909\n",
      "{'l_freq': None, 'h_freq': None, 'auto_reject': None, 'ica': [1], 'set_average_ref': False, 'apply_baseline': False, 'drop_ref_ch': True, 'crop': False}\n",
      "logistic: 0.2909090909090909\n",
      "rf: 0.2787878787878787\n",
      "{'l_freq': None, 'h_freq': None, 'auto_reject': None, 'ica': [1], 'set_average_ref': False, 'apply_baseline': False, 'drop_ref_ch': True, 'crop': True}\n",
      "logistic: 0.3636363636363636\n",
      "rf: 0.3151515151515151\n",
      "{'l_freq': None, 'h_freq': None, 'auto_reject': None, 'ica': [1], 'set_average_ref': False, 'apply_baseline': True, 'drop_ref_ch': False, 'crop': False}\n",
      "logistic: 0.3151515151515151\n",
      "rf: 0.32727272727272727\n",
      "{'l_freq': None, 'h_freq': None, 'auto_reject': None, 'ica': [1], 'set_average_ref': False, 'apply_baseline': True, 'drop_ref_ch': False, 'crop': True}\n",
      "logistic: 0.32121212121212117\n",
      "rf: 0.303030303030303\n",
      "{'l_freq': None, 'h_freq': None, 'auto_reject': None, 'ica': [1], 'set_average_ref': False, 'apply_baseline': True, 'drop_ref_ch': True, 'crop': False}\n",
      "logistic: 0.30303030303030304\n",
      "rf: 0.30303030303030304\n",
      "{'l_freq': None, 'h_freq': None, 'auto_reject': None, 'ica': [1], 'set_average_ref': False, 'apply_baseline': True, 'drop_ref_ch': True, 'crop': True}\n",
      "logistic: 0.33939393939393936\n",
      "rf: 0.32727272727272727\n",
      "{'l_freq': None, 'h_freq': None, 'auto_reject': None, 'ica': [1], 'set_average_ref': True, 'apply_baseline': False, 'drop_ref_ch': False, 'crop': False}\n"
     ]
    },
    {
     "name": "stdout",
     "output_type": "stream",
     "text": [
      "logistic: 0.303030303030303\n",
      "rf: 0.20606060606060606\n",
      "{'l_freq': None, 'h_freq': None, 'auto_reject': None, 'ica': [1], 'set_average_ref': True, 'apply_baseline': False, 'drop_ref_ch': False, 'crop': True}\n",
      "logistic: 0.303030303030303\n",
      "rf: 0.28484848484848485\n",
      "{'l_freq': None, 'h_freq': None, 'auto_reject': None, 'ica': [1], 'set_average_ref': True, 'apply_baseline': False, 'drop_ref_ch': True, 'crop': False}\n",
      "logistic: 0.30303030303030304\n",
      "rf: 0.24242424242424243\n",
      "{'l_freq': None, 'h_freq': None, 'auto_reject': None, 'ica': [1], 'set_average_ref': True, 'apply_baseline': False, 'drop_ref_ch': True, 'crop': True}\n",
      "logistic: 0.27878787878787875\n",
      "rf: 0.24242424242424243\n",
      "{'l_freq': None, 'h_freq': None, 'auto_reject': None, 'ica': [1], 'set_average_ref': True, 'apply_baseline': True, 'drop_ref_ch': False, 'crop': False}\n",
      "logistic: 0.3090909090909091\n",
      "rf: 0.3272727272727272\n",
      "{'l_freq': None, 'h_freq': None, 'auto_reject': None, 'ica': [1], 'set_average_ref': True, 'apply_baseline': True, 'drop_ref_ch': False, 'crop': True}\n",
      "logistic: 0.2787878787878788\n",
      "rf: 0.26666666666666666\n",
      "{'l_freq': None, 'h_freq': None, 'auto_reject': None, 'ica': [1], 'set_average_ref': True, 'apply_baseline': True, 'drop_ref_ch': True, 'crop': False}\n",
      "logistic: 0.3515151515151515\n",
      "rf: 0.3151515151515151\n",
      "{'l_freq': None, 'h_freq': None, 'auto_reject': None, 'ica': [1], 'set_average_ref': True, 'apply_baseline': True, 'drop_ref_ch': True, 'crop': True}\n",
      "logistic: 0.35757575757575755\n",
      "rf: 0.23636363636363633\n",
      "{'l_freq': None, 'h_freq': None, 'auto_reject': None, 'ica': [0, 1], 'set_average_ref': False, 'apply_baseline': False, 'drop_ref_ch': False, 'crop': False}\n",
      "logistic: 0.3151515151515151\n",
      "rf: 0.296969696969697\n",
      "{'l_freq': None, 'h_freq': None, 'auto_reject': None, 'ica': [0, 1], 'set_average_ref': False, 'apply_baseline': False, 'drop_ref_ch': False, 'crop': True}\n",
      "logistic: 0.2545454545454545\n",
      "rf: 0.2303030303030303\n",
      "{'l_freq': None, 'h_freq': None, 'auto_reject': None, 'ica': [0, 1], 'set_average_ref': False, 'apply_baseline': False, 'drop_ref_ch': True, 'crop': False}\n",
      "logistic: 0.3151515151515151\n",
      "rf: 0.31515151515151507\n",
      "{'l_freq': None, 'h_freq': None, 'auto_reject': None, 'ica': [0, 1], 'set_average_ref': False, 'apply_baseline': False, 'drop_ref_ch': True, 'crop': True}\n",
      "logistic: 0.35151515151515145\n",
      "rf: 0.22424242424242422\n",
      "{'l_freq': None, 'h_freq': None, 'auto_reject': None, 'ica': [0, 1], 'set_average_ref': False, 'apply_baseline': True, 'drop_ref_ch': False, 'crop': False}\n",
      "logistic: 0.3515151515151515\n",
      "rf: 0.3696969696969697\n",
      "{'l_freq': None, 'h_freq': None, 'auto_reject': None, 'ica': [0, 1], 'set_average_ref': False, 'apply_baseline': True, 'drop_ref_ch': False, 'crop': True}\n",
      "logistic: 0.2909090909090909\n",
      "rf: 0.30909090909090914\n",
      "{'l_freq': None, 'h_freq': None, 'auto_reject': None, 'ica': [0, 1], 'set_average_ref': False, 'apply_baseline': True, 'drop_ref_ch': True, 'crop': False}\n",
      "logistic: 0.3333333333333333\n",
      "rf: 0.36363636363636365\n",
      "{'l_freq': None, 'h_freq': None, 'auto_reject': None, 'ica': [0, 1], 'set_average_ref': False, 'apply_baseline': True, 'drop_ref_ch': True, 'crop': True}\n",
      "logistic: 0.3090909090909091\n",
      "rf: 0.32121212121212117\n",
      "{'l_freq': None, 'h_freq': None, 'auto_reject': None, 'ica': [0, 1], 'set_average_ref': True, 'apply_baseline': False, 'drop_ref_ch': False, 'crop': False}\n",
      "logistic: 0.22424242424242422\n",
      "rf: 0.26060606060606056\n",
      "{'l_freq': None, 'h_freq': None, 'auto_reject': None, 'ica': [0, 1], 'set_average_ref': True, 'apply_baseline': False, 'drop_ref_ch': False, 'crop': True}\n",
      "logistic: 0.296969696969697\n",
      "rf: 0.24242424242424238\n",
      "{'l_freq': None, 'h_freq': None, 'auto_reject': None, 'ica': [0, 1], 'set_average_ref': True, 'apply_baseline': False, 'drop_ref_ch': True, 'crop': False}\n",
      "logistic: 0.3393939393939394\n",
      "rf: 0.2606060606060606\n",
      "{'l_freq': None, 'h_freq': None, 'auto_reject': None, 'ica': [0, 1], 'set_average_ref': True, 'apply_baseline': False, 'drop_ref_ch': True, 'crop': True}\n",
      "logistic: 0.30303030303030304\n",
      "rf: 0.2\n",
      "{'l_freq': None, 'h_freq': None, 'auto_reject': None, 'ica': [0, 1], 'set_average_ref': True, 'apply_baseline': True, 'drop_ref_ch': False, 'crop': False}\n",
      "logistic: 0.3090909090909091\n",
      "rf: 0.3696969696969697\n",
      "{'l_freq': None, 'h_freq': None, 'auto_reject': None, 'ica': [0, 1], 'set_average_ref': True, 'apply_baseline': True, 'drop_ref_ch': False, 'crop': True}\n",
      "logistic: 0.296969696969697\n",
      "rf: 0.2909090909090909\n",
      "{'l_freq': None, 'h_freq': None, 'auto_reject': None, 'ica': [0, 1], 'set_average_ref': True, 'apply_baseline': True, 'drop_ref_ch': True, 'crop': False}\n",
      "logistic: 0.32121212121212117\n",
      "rf: 0.3333333333333333\n",
      "{'l_freq': None, 'h_freq': None, 'auto_reject': None, 'ica': [0, 1], 'set_average_ref': True, 'apply_baseline': True, 'drop_ref_ch': True, 'crop': True}\n",
      "logistic: 0.28484848484848485\n",
      "rf: 0.33333333333333326\n",
      "{'l_freq': None, 'h_freq': None, 'auto_reject': 'ar', 'ica': None, 'set_average_ref': False, 'apply_baseline': False, 'drop_ref_ch': False, 'crop': False}\n",
      "logistic: 0.28925925925925927\n",
      "rf: 0.19444444444444442\n",
      "{'l_freq': None, 'h_freq': None, 'auto_reject': 'ar', 'ica': None, 'set_average_ref': False, 'apply_baseline': False, 'drop_ref_ch': False, 'crop': True}\n",
      "logistic: 0.2303030303030303\n",
      "rf: 0.2606060606060606\n",
      "{'l_freq': None, 'h_freq': None, 'auto_reject': 'ar', 'ica': None, 'set_average_ref': False, 'apply_baseline': False, 'drop_ref_ch': True, 'crop': False}\n",
      "logistic: 0.36666666666666664\n",
      "rf: 0.16666666666666666\n",
      "{'l_freq': None, 'h_freq': None, 'auto_reject': 'ar', 'ica': None, 'set_average_ref': False, 'apply_baseline': False, 'drop_ref_ch': True, 'crop': True}\n",
      "logistic: 0.296969696969697\n",
      "rf: 0.21818181818181817\n",
      "{'l_freq': None, 'h_freq': None, 'auto_reject': 'ar', 'ica': None, 'set_average_ref': False, 'apply_baseline': True, 'drop_ref_ch': False, 'crop': False}\n",
      "logistic: 0.32121212121212117\n",
      "rf: 0.2787878787878788\n",
      "{'l_freq': None, 'h_freq': None, 'auto_reject': 'ar', 'ica': None, 'set_average_ref': False, 'apply_baseline': True, 'drop_ref_ch': False, 'crop': True}\n",
      "logistic: 0.24545454545454543\n",
      "rf: 0.2460606060606061\n",
      "{'l_freq': None, 'h_freq': None, 'auto_reject': 'ar', 'ica': None, 'set_average_ref': False, 'apply_baseline': True, 'drop_ref_ch': True, 'crop': False}\n"
     ]
    },
    {
     "name": "stderr",
     "output_type": "stream",
     "text": [
      "C:\\Users\\Sage\\AppData\\Roaming\\Python\\Python39\\site-packages\\sklearn\\model_selection\\_split.py:676: UserWarning: The least populated class in y has only 2 members, which is less than n_splits=5.\n",
      "  warnings.warn(\n",
      "C:\\Users\\Sage\\AppData\\Roaming\\Python\\Python39\\site-packages\\sklearn\\metrics\\_classification.py:1987: UserWarning: y_pred contains classes not in y_true\n",
      "  warnings.warn(\"y_pred contains classes not in y_true\")\n",
      "C:\\Users\\Sage\\AppData\\Roaming\\Python\\Python39\\site-packages\\sklearn\\metrics\\_classification.py:1987: UserWarning: y_pred contains classes not in y_true\n",
      "  warnings.warn(\"y_pred contains classes not in y_true\")\n",
      "C:\\Users\\Sage\\AppData\\Roaming\\Python\\Python39\\site-packages\\sklearn\\model_selection\\_split.py:676: UserWarning: The least populated class in y has only 2 members, which is less than n_splits=5.\n",
      "  warnings.warn(\n",
      "C:\\Users\\Sage\\AppData\\Roaming\\Python\\Python39\\site-packages\\sklearn\\metrics\\_classification.py:1987: UserWarning: y_pred contains classes not in y_true\n",
      "  warnings.warn(\"y_pred contains classes not in y_true\")\n"
     ]
    },
    {
     "name": "stdout",
     "output_type": "stream",
     "text": [
      "logistic: 0.31666666666666665\n",
      "rf: 0.26666666666666666\n",
      "{'l_freq': None, 'h_freq': None, 'auto_reject': 'ar', 'ica': None, 'set_average_ref': False, 'apply_baseline': True, 'drop_ref_ch': True, 'crop': True}\n",
      "logistic: 0.29444444444444445\n",
      "rf: 0.31296296296296294\n",
      "{'l_freq': None, 'h_freq': None, 'auto_reject': 'ar', 'ica': None, 'set_average_ref': True, 'apply_baseline': False, 'drop_ref_ch': False, 'crop': False}\n",
      "logistic: 0.29999999999999993\n",
      "rf: 0.4333333333333333\n",
      "{'l_freq': None, 'h_freq': None, 'auto_reject': 'ar', 'ica': None, 'set_average_ref': True, 'apply_baseline': False, 'drop_ref_ch': False, 'crop': True}\n",
      "logistic: 0.3757575757575758\n",
      "rf: 0.2181818181818182\n",
      "{'l_freq': None, 'h_freq': None, 'auto_reject': 'ar', 'ica': None, 'set_average_ref': True, 'apply_baseline': False, 'drop_ref_ch': True, 'crop': False}\n",
      "logistic: 0.28727272727272724\n",
      "rf: 0.263030303030303\n",
      "{'l_freq': None, 'h_freq': None, 'auto_reject': 'ar', 'ica': None, 'set_average_ref': True, 'apply_baseline': False, 'drop_ref_ch': True, 'crop': True}\n",
      "logistic: 0.3151515151515151\n",
      "rf: 0.2181818181818182\n",
      "{'l_freq': None, 'h_freq': None, 'auto_reject': 'ar', 'ica': None, 'set_average_ref': True, 'apply_baseline': True, 'drop_ref_ch': False, 'crop': False}\n",
      "logistic: 0.32727272727272727\n",
      "rf: 0.2684848484848485\n",
      "{'l_freq': None, 'h_freq': None, 'auto_reject': 'ar', 'ica': None, 'set_average_ref': True, 'apply_baseline': True, 'drop_ref_ch': False, 'crop': True}\n",
      "logistic: 0.3515151515151515\n",
      "rf: 0.2666666666666666\n",
      "{'l_freq': None, 'h_freq': None, 'auto_reject': 'ar', 'ica': None, 'set_average_ref': True, 'apply_baseline': True, 'drop_ref_ch': True, 'crop': False}\n",
      "logistic: 0.3818181818181818\n",
      "rf: 0.2545454545454545\n",
      "{'l_freq': None, 'h_freq': None, 'auto_reject': 'ar', 'ica': None, 'set_average_ref': True, 'apply_baseline': True, 'drop_ref_ch': True, 'crop': True}\n",
      "logistic: 0.3193939393939394\n",
      "rf: 0.3036363636363636\n",
      "{'l_freq': None, 'h_freq': None, 'auto_reject': 'ar', 'ica': [0], 'set_average_ref': False, 'apply_baseline': False, 'drop_ref_ch': False, 'crop': False}\n",
      "logistic: 0.4333333333333333\n",
      "rf: 0.4\n",
      "{'l_freq': None, 'h_freq': None, 'auto_reject': 'ar', 'ica': [0], 'set_average_ref': False, 'apply_baseline': False, 'drop_ref_ch': False, 'crop': True}\n",
      "logistic: 0.3090909090909091\n",
      "rf: 0.1393939393939394\n",
      "{'l_freq': None, 'h_freq': None, 'auto_reject': 'ar', 'ica': [0], 'set_average_ref': False, 'apply_baseline': False, 'drop_ref_ch': True, 'crop': False}\n",
      "logistic: 0.31626984126984126\n",
      "rf: 0.26719576719576715\n",
      "{'l_freq': None, 'h_freq': None, 'auto_reject': 'ar', 'ica': [0], 'set_average_ref': False, 'apply_baseline': False, 'drop_ref_ch': True, 'crop': True}\n",
      "logistic: 0.28424242424242424\n",
      "rf: 0.1909090909090909\n",
      "{'l_freq': None, 'h_freq': None, 'auto_reject': 'ar', 'ica': [0], 'set_average_ref': False, 'apply_baseline': True, 'drop_ref_ch': False, 'crop': False}\n",
      "logistic: 0.33939393939393936\n",
      "rf: 0.29696969696969694\n",
      "{'l_freq': None, 'h_freq': None, 'auto_reject': 'ar', 'ica': [0], 'set_average_ref': False, 'apply_baseline': True, 'drop_ref_ch': False, 'crop': True}\n",
      "logistic: 0.2824242424242424\n",
      "rf: 0.3224242424242424\n",
      "{'l_freq': None, 'h_freq': None, 'auto_reject': 'ar', 'ica': [0], 'set_average_ref': False, 'apply_baseline': True, 'drop_ref_ch': True, 'crop': False}\n",
      "logistic: 0.2545454545454545\n",
      "rf: 0.3090909090909091\n",
      "{'l_freq': None, 'h_freq': None, 'auto_reject': 'ar', 'ica': [0], 'set_average_ref': False, 'apply_baseline': True, 'drop_ref_ch': True, 'crop': True}\n",
      "logistic: 0.412962962962963\n",
      "rf: 0.24722222222222223\n",
      "{'l_freq': None, 'h_freq': None, 'auto_reject': 'ar', 'ica': [0], 'set_average_ref': True, 'apply_baseline': False, 'drop_ref_ch': False, 'crop': False}\n",
      "logistic: 0.27878787878787875\n",
      "rf: 0.17575757575757575\n",
      "{'l_freq': None, 'h_freq': None, 'auto_reject': 'ar', 'ica': [0], 'set_average_ref': True, 'apply_baseline': False, 'drop_ref_ch': False, 'crop': True}\n",
      "logistic: 0.296969696969697\n",
      "rf: 0.24242424242424243\n",
      "{'l_freq': None, 'h_freq': None, 'auto_reject': 'ar', 'ica': [0], 'set_average_ref': True, 'apply_baseline': False, 'drop_ref_ch': True, 'crop': False}\n",
      "logistic: 0.27878787878787875\n",
      "rf: 0.2666666666666667\n",
      "{'l_freq': None, 'h_freq': None, 'auto_reject': 'ar', 'ica': [0], 'set_average_ref': True, 'apply_baseline': False, 'drop_ref_ch': True, 'crop': True}\n",
      "logistic: 0.2527272727272727\n",
      "rf: 0.2690909090909091\n",
      "{'l_freq': None, 'h_freq': None, 'auto_reject': 'ar', 'ica': [0], 'set_average_ref': True, 'apply_baseline': True, 'drop_ref_ch': False, 'crop': False}\n",
      "logistic: 0.3333333333333333\n",
      "rf: 0.32727272727272727\n",
      "{'l_freq': None, 'h_freq': None, 'auto_reject': 'ar', 'ica': [0], 'set_average_ref': True, 'apply_baseline': True, 'drop_ref_ch': False, 'crop': True}\n",
      "logistic: 0.27636363636363637\n",
      "rf: 0.2818181818181818\n",
      "{'l_freq': None, 'h_freq': None, 'auto_reject': 'ar', 'ica': [0], 'set_average_ref': True, 'apply_baseline': True, 'drop_ref_ch': True, 'crop': False}\n",
      "logistic: 0.3272222222222222\n",
      "rf: 0.22148148148148147\n",
      "{'l_freq': None, 'h_freq': None, 'auto_reject': 'ar', 'ica': [0], 'set_average_ref': True, 'apply_baseline': True, 'drop_ref_ch': True, 'crop': True}\n",
      "logistic: 0.29939393939393943\n",
      "rf: 0.26121212121212123\n",
      "{'l_freq': None, 'h_freq': None, 'auto_reject': 'ar', 'ica': [1], 'set_average_ref': False, 'apply_baseline': False, 'drop_ref_ch': False, 'crop': False}\n",
      "logistic: 0.303030303030303\n",
      "rf: 0.24242424242424238\n",
      "{'l_freq': None, 'h_freq': None, 'auto_reject': 'ar', 'ica': [1], 'set_average_ref': False, 'apply_baseline': False, 'drop_ref_ch': False, 'crop': True}\n",
      "logistic: 0.2290909090909091\n",
      "rf: 0.17454545454545453\n",
      "{'l_freq': None, 'h_freq': None, 'auto_reject': 'ar', 'ica': [1], 'set_average_ref': False, 'apply_baseline': False, 'drop_ref_ch': True, 'crop': False}\n",
      "logistic: 0.36969696969696964\n",
      "rf: 0.24242424242424243\n",
      "{'l_freq': None, 'h_freq': None, 'auto_reject': 'ar', 'ica': [1], 'set_average_ref': False, 'apply_baseline': False, 'drop_ref_ch': True, 'crop': True}\n",
      "logistic: 0.2545454545454545\n",
      "rf: 0.19999999999999998\n",
      "{'l_freq': None, 'h_freq': None, 'auto_reject': 'ar', 'ica': [1], 'set_average_ref': False, 'apply_baseline': True, 'drop_ref_ch': False, 'crop': False}\n",
      "logistic: 0.32727272727272727\n",
      "rf: 0.3515151515151515\n",
      "{'l_freq': None, 'h_freq': None, 'auto_reject': 'ar', 'ica': [1], 'set_average_ref': False, 'apply_baseline': True, 'drop_ref_ch': False, 'crop': True}\n",
      "logistic: 0.32121212121212117\n",
      "rf: 0.2181818181818182\n",
      "{'l_freq': None, 'h_freq': None, 'auto_reject': 'ar', 'ica': [1], 'set_average_ref': False, 'apply_baseline': True, 'drop_ref_ch': True, 'crop': False}\n",
      "logistic: 0.3393939393939393\n",
      "rf: 0.3515151515151515\n",
      "{'l_freq': None, 'h_freq': None, 'auto_reject': 'ar', 'ica': [1], 'set_average_ref': False, 'apply_baseline': True, 'drop_ref_ch': True, 'crop': True}\n",
      "logistic: 0.2751851851851852\n",
      "rf: 0.30333333333333334\n",
      "{'l_freq': None, 'h_freq': None, 'auto_reject': 'ar', 'ica': [1], 'set_average_ref': True, 'apply_baseline': False, 'drop_ref_ch': False, 'crop': False}\n",
      "logistic: 0.3496969696969697\n",
      "rf: 0.24848484848484848\n",
      "{'l_freq': None, 'h_freq': None, 'auto_reject': 'ar', 'ica': [1], 'set_average_ref': True, 'apply_baseline': False, 'drop_ref_ch': False, 'crop': True}\n",
      "logistic: 0.24060606060606057\n",
      "rf: 0.18606060606060607\n",
      "{'l_freq': None, 'h_freq': None, 'auto_reject': 'ar', 'ica': [1], 'set_average_ref': True, 'apply_baseline': False, 'drop_ref_ch': True, 'crop': False}\n",
      "logistic: 0.3454545454545454\n",
      "rf: 0.2606060606060606\n",
      "{'l_freq': None, 'h_freq': None, 'auto_reject': 'ar', 'ica': [1], 'set_average_ref': True, 'apply_baseline': False, 'drop_ref_ch': True, 'crop': True}\n",
      "logistic: 0.2909090909090909\n",
      "rf: 0.2121212121212121\n",
      "{'l_freq': None, 'h_freq': None, 'auto_reject': 'ar', 'ica': [1], 'set_average_ref': True, 'apply_baseline': True, 'drop_ref_ch': False, 'crop': False}\n",
      "logistic: 0.3903030303030303\n",
      "rf: 0.3030303030303031\n",
      "{'l_freq': None, 'h_freq': None, 'auto_reject': 'ar', 'ica': [1], 'set_average_ref': True, 'apply_baseline': True, 'drop_ref_ch': False, 'crop': True}\n",
      "logistic: 0.28484848484848485\n",
      "rf: 0.2727272727272727\n",
      "{'l_freq': None, 'h_freq': None, 'auto_reject': 'ar', 'ica': [1], 'set_average_ref': True, 'apply_baseline': True, 'drop_ref_ch': True, 'crop': False}\n",
      "logistic: 0.2981818181818182\n"
     ]
    },
    {
     "name": "stdout",
     "output_type": "stream",
     "text": [
      "rf: 0.25575757575757574\n",
      "{'l_freq': None, 'h_freq': None, 'auto_reject': 'ar', 'ica': [1], 'set_average_ref': True, 'apply_baseline': True, 'drop_ref_ch': True, 'crop': True}\n",
      "logistic: 0.36666666666666664\n",
      "rf: 0.16666666666666666\n",
      "{'l_freq': None, 'h_freq': None, 'auto_reject': 'ar', 'ica': [0, 1], 'set_average_ref': False, 'apply_baseline': False, 'drop_ref_ch': False, 'crop': False}\n",
      "logistic: 0.3333333333333333\n",
      "rf: 0.29999999999999993\n",
      "{'l_freq': None, 'h_freq': None, 'auto_reject': 'ar', 'ica': [0, 1], 'set_average_ref': False, 'apply_baseline': False, 'drop_ref_ch': False, 'crop': True}\n",
      "logistic: 0.2587878787878788\n",
      "rf: 0.23393939393939395\n",
      "{'l_freq': None, 'h_freq': None, 'auto_reject': 'ar', 'ica': [0, 1], 'set_average_ref': False, 'apply_baseline': False, 'drop_ref_ch': True, 'crop': False}\n",
      "logistic: 0.24848484848484845\n",
      "rf: 0.3090909090909091\n",
      "{'l_freq': None, 'h_freq': None, 'auto_reject': 'ar', 'ica': [0, 1], 'set_average_ref': False, 'apply_baseline': False, 'drop_ref_ch': True, 'crop': True}\n",
      "logistic: 0.32121212121212117\n",
      "rf: 0.2727272727272727\n",
      "{'l_freq': None, 'h_freq': None, 'auto_reject': 'ar', 'ica': [0, 1], 'set_average_ref': False, 'apply_baseline': True, 'drop_ref_ch': False, 'crop': False}\n",
      "logistic: 0.27129629629629626\n",
      "rf: 0.28888888888888886\n",
      "{'l_freq': None, 'h_freq': None, 'auto_reject': 'ar', 'ica': [0, 1], 'set_average_ref': False, 'apply_baseline': True, 'drop_ref_ch': False, 'crop': True}\n",
      "logistic: 0.35351851851851845\n",
      "rf: 0.2531481481481482\n",
      "{'l_freq': None, 'h_freq': None, 'auto_reject': 'ar', 'ica': [0, 1], 'set_average_ref': False, 'apply_baseline': True, 'drop_ref_ch': True, 'crop': False}\n",
      "logistic: 0.2884848484848485\n",
      "rf: 0.34545454545454546\n",
      "{'l_freq': None, 'h_freq': None, 'auto_reject': 'ar', 'ica': [0, 1], 'set_average_ref': False, 'apply_baseline': True, 'drop_ref_ch': True, 'crop': True}\n",
      "logistic: 0.28787878787878785\n",
      "rf: 0.24363636363636365\n",
      "{'l_freq': None, 'h_freq': None, 'auto_reject': 'ar', 'ica': [0, 1], 'set_average_ref': True, 'apply_baseline': False, 'drop_ref_ch': False, 'crop': False}\n",
      "logistic: 0.29878787878787877\n",
      "rf: 0.24484848484848482\n",
      "{'l_freq': None, 'h_freq': None, 'auto_reject': 'ar', 'ica': [0, 1], 'set_average_ref': True, 'apply_baseline': False, 'drop_ref_ch': False, 'crop': True}\n",
      "logistic: 0.16666666666666666\n",
      "rf: 0.23333333333333334\n",
      "{'l_freq': None, 'h_freq': None, 'auto_reject': 'ar', 'ica': [0, 1], 'set_average_ref': True, 'apply_baseline': False, 'drop_ref_ch': True, 'crop': False}\n",
      "logistic: 0.24259259259259255\n",
      "rf: 0.21759259259259256\n",
      "{'l_freq': None, 'h_freq': None, 'auto_reject': 'ar', 'ica': [0, 1], 'set_average_ref': True, 'apply_baseline': False, 'drop_ref_ch': True, 'crop': True}\n",
      "logistic: 0.28484848484848485\n",
      "rf: 0.2\n",
      "{'l_freq': None, 'h_freq': None, 'auto_reject': 'ar', 'ica': [0, 1], 'set_average_ref': True, 'apply_baseline': True, 'drop_ref_ch': False, 'crop': False}\n",
      "logistic: 0.2890740740740741\n",
      "rf: 0.22888888888888886\n",
      "{'l_freq': None, 'h_freq': None, 'auto_reject': 'ar', 'ica': [0, 1], 'set_average_ref': True, 'apply_baseline': True, 'drop_ref_ch': False, 'crop': True}\n",
      "logistic: 0.2333333333333333\n",
      "rf: 0.26666666666666666\n",
      "{'l_freq': None, 'h_freq': None, 'auto_reject': 'ar', 'ica': [0, 1], 'set_average_ref': True, 'apply_baseline': True, 'drop_ref_ch': True, 'crop': False}\n",
      "logistic: 0.31555555555555553\n",
      "rf: 0.25703703703703706\n",
      "{'l_freq': None, 'h_freq': None, 'auto_reject': 'ar', 'ica': [0, 1], 'set_average_ref': True, 'apply_baseline': True, 'drop_ref_ch': True, 'crop': True}\n",
      "logistic: 0.32484848484848483\n",
      "rf: 0.30484848484848487\n",
      "{'l_freq': None, 'h_freq': None, 'auto_reject': 'ransac', 'ica': None, 'set_average_ref': False, 'apply_baseline': False, 'drop_ref_ch': False, 'crop': False}\n"
     ]
    },
    {
     "name": "stderr",
     "output_type": "stream",
     "text": [
      "[Parallel(n_jobs=1)]: Using backend SequentialBackend with 1 concurrent workers.\n",
      "[Parallel(n_jobs=1)]: Done   1 out of   1 | elapsed:    1.0s remaining:    0.0s\n",
      "[Parallel(n_jobs=1)]: Done   1 out of   1 | elapsed:    1.0s finished\n",
      "C:\\Users\\Sage\\anaconda3\\lib\\site-packages\\autoreject\\ransac.py:229: RuntimeWarning: No bad channels to interpolate. Doing nothing...\n",
      "  epochs.interpolate_bads(reset_bads=True)\n"
     ]
    },
    {
     "name": "stdout",
     "output_type": "stream",
     "text": [
      "logistic: 0.24848484848484848\n",
      "rf: 0.2181818181818182\n",
      "{'l_freq': None, 'h_freq': None, 'auto_reject': 'ransac', 'ica': None, 'set_average_ref': False, 'apply_baseline': False, 'drop_ref_ch': False, 'crop': True}\n"
     ]
    },
    {
     "name": "stderr",
     "output_type": "stream",
     "text": [
      "[Parallel(n_jobs=1)]: Using backend SequentialBackend with 1 concurrent workers.\n",
      "[Parallel(n_jobs=1)]: Done   1 out of   1 | elapsed:    1.2s remaining:    0.0s\n",
      "[Parallel(n_jobs=1)]: Done   1 out of   1 | elapsed:    1.2s finished\n",
      "C:\\Users\\Sage\\anaconda3\\lib\\site-packages\\autoreject\\ransac.py:229: RuntimeWarning: No bad channels to interpolate. Doing nothing...\n",
      "  epochs.interpolate_bads(reset_bads=True)\n"
     ]
    },
    {
     "name": "stdout",
     "output_type": "stream",
     "text": [
      "logistic: 0.24848484848484848\n",
      "rf: 0.2121212121212121\n",
      "{'l_freq': None, 'h_freq': None, 'auto_reject': 'ransac', 'ica': None, 'set_average_ref': False, 'apply_baseline': False, 'drop_ref_ch': True, 'crop': False}\n"
     ]
    },
    {
     "name": "stderr",
     "output_type": "stream",
     "text": [
      "[Parallel(n_jobs=1)]: Using backend SequentialBackend with 1 concurrent workers.\n",
      "[Parallel(n_jobs=1)]: Done   1 out of   1 | elapsed:    1.2s remaining:    0.0s\n",
      "[Parallel(n_jobs=1)]: Done   1 out of   1 | elapsed:    1.2s finished\n",
      "C:\\Users\\Sage\\anaconda3\\lib\\site-packages\\autoreject\\ransac.py:229: RuntimeWarning: No bad channels to interpolate. Doing nothing...\n",
      "  epochs.interpolate_bads(reset_bads=True)\n"
     ]
    },
    {
     "name": "stdout",
     "output_type": "stream",
     "text": [
      "logistic: 0.26666666666666666\n",
      "rf: 0.26666666666666666\n",
      "{'l_freq': None, 'h_freq': None, 'auto_reject': 'ransac', 'ica': None, 'set_average_ref': False, 'apply_baseline': False, 'drop_ref_ch': True, 'crop': True}\n"
     ]
    },
    {
     "name": "stderr",
     "output_type": "stream",
     "text": [
      "[Parallel(n_jobs=1)]: Using backend SequentialBackend with 1 concurrent workers.\n",
      "[Parallel(n_jobs=1)]: Done   1 out of   1 | elapsed:    1.0s remaining:    0.0s\n",
      "[Parallel(n_jobs=1)]: Done   1 out of   1 | elapsed:    1.0s finished\n",
      "C:\\Users\\Sage\\anaconda3\\lib\\site-packages\\autoreject\\ransac.py:229: RuntimeWarning: No bad channels to interpolate. Doing nothing...\n",
      "  epochs.interpolate_bads(reset_bads=True)\n"
     ]
    },
    {
     "name": "stdout",
     "output_type": "stream",
     "text": [
      "logistic: 0.20606060606060606\n",
      "rf: 0.2303030303030303\n",
      "{'l_freq': None, 'h_freq': None, 'auto_reject': 'ransac', 'ica': None, 'set_average_ref': False, 'apply_baseline': True, 'drop_ref_ch': False, 'crop': False}\n"
     ]
    },
    {
     "name": "stderr",
     "output_type": "stream",
     "text": [
      "[Parallel(n_jobs=1)]: Using backend SequentialBackend with 1 concurrent workers.\n",
      "[Parallel(n_jobs=1)]: Done   1 out of   1 | elapsed:    1.1s remaining:    0.0s\n",
      "[Parallel(n_jobs=1)]: Done   1 out of   1 | elapsed:    1.1s finished\n",
      "C:\\Users\\Sage\\anaconda3\\lib\\site-packages\\autoreject\\ransac.py:229: RuntimeWarning: No bad channels to interpolate. Doing nothing...\n",
      "  epochs.interpolate_bads(reset_bads=True)\n"
     ]
    },
    {
     "name": "stdout",
     "output_type": "stream",
     "text": [
      "logistic: 0.2909090909090909\n",
      "rf: 0.2909090909090909\n",
      "{'l_freq': None, 'h_freq': None, 'auto_reject': 'ransac', 'ica': None, 'set_average_ref': False, 'apply_baseline': True, 'drop_ref_ch': False, 'crop': True}\n"
     ]
    },
    {
     "name": "stderr",
     "output_type": "stream",
     "text": [
      "[Parallel(n_jobs=1)]: Using backend SequentialBackend with 1 concurrent workers.\n",
      "[Parallel(n_jobs=1)]: Done   1 out of   1 | elapsed:    1.1s remaining:    0.0s\n",
      "[Parallel(n_jobs=1)]: Done   1 out of   1 | elapsed:    1.1s finished\n",
      "C:\\Users\\Sage\\anaconda3\\lib\\site-packages\\autoreject\\ransac.py:229: RuntimeWarning: No bad channels to interpolate. Doing nothing...\n",
      "  epochs.interpolate_bads(reset_bads=True)\n"
     ]
    },
    {
     "name": "stdout",
     "output_type": "stream",
     "text": [
      "logistic: 0.24242424242424243\n",
      "rf: 0.3393939393939394\n",
      "{'l_freq': None, 'h_freq': None, 'auto_reject': 'ransac', 'ica': None, 'set_average_ref': False, 'apply_baseline': True, 'drop_ref_ch': True, 'crop': False}\n"
     ]
    },
    {
     "name": "stderr",
     "output_type": "stream",
     "text": [
      "[Parallel(n_jobs=1)]: Using backend SequentialBackend with 1 concurrent workers.\n",
      "[Parallel(n_jobs=1)]: Done   1 out of   1 | elapsed:    1.1s remaining:    0.0s\n",
      "[Parallel(n_jobs=1)]: Done   1 out of   1 | elapsed:    1.1s finished\n",
      "C:\\Users\\Sage\\anaconda3\\lib\\site-packages\\autoreject\\ransac.py:229: RuntimeWarning: No bad channels to interpolate. Doing nothing...\n",
      "  epochs.interpolate_bads(reset_bads=True)\n"
     ]
    },
    {
     "name": "stdout",
     "output_type": "stream",
     "text": [
      "logistic: 0.30303030303030304\n",
      "rf: 0.3090909090909091\n",
      "{'l_freq': None, 'h_freq': None, 'auto_reject': 'ransac', 'ica': None, 'set_average_ref': False, 'apply_baseline': True, 'drop_ref_ch': True, 'crop': True}\n"
     ]
    },
    {
     "name": "stderr",
     "output_type": "stream",
     "text": [
      "[Parallel(n_jobs=1)]: Using backend SequentialBackend with 1 concurrent workers.\n",
      "[Parallel(n_jobs=1)]: Done   1 out of   1 | elapsed:    1.1s remaining:    0.0s\n",
      "[Parallel(n_jobs=1)]: Done   1 out of   1 | elapsed:    1.1s finished\n",
      "C:\\Users\\Sage\\anaconda3\\lib\\site-packages\\autoreject\\ransac.py:229: RuntimeWarning: No bad channels to interpolate. Doing nothing...\n",
      "  epochs.interpolate_bads(reset_bads=True)\n"
     ]
    },
    {
     "name": "stdout",
     "output_type": "stream",
     "text": [
      "logistic: 0.22424242424242427\n",
      "rf: 0.2848484848484848\n",
      "{'l_freq': None, 'h_freq': None, 'auto_reject': 'ransac', 'ica': None, 'set_average_ref': True, 'apply_baseline': False, 'drop_ref_ch': False, 'crop': False}\n"
     ]
    },
    {
     "name": "stderr",
     "output_type": "stream",
     "text": [
      "[Parallel(n_jobs=1)]: Using backend SequentialBackend with 1 concurrent workers.\n",
      "[Parallel(n_jobs=1)]: Done   1 out of   1 | elapsed:    1.1s remaining:    0.0s\n",
      "[Parallel(n_jobs=1)]: Done   1 out of   1 | elapsed:    1.1s finished\n",
      "C:\\Users\\Sage\\anaconda3\\lib\\site-packages\\autoreject\\ransac.py:229: RuntimeWarning: No bad channels to interpolate. Doing nothing...\n",
      "  epochs.interpolate_bads(reset_bads=True)\n"
     ]
    },
    {
     "name": "stdout",
     "output_type": "stream",
     "text": [
      "logistic: 0.2545454545454545\n",
      "rf: 0.23636363636363633\n",
      "{'l_freq': None, 'h_freq': None, 'auto_reject': 'ransac', 'ica': None, 'set_average_ref': True, 'apply_baseline': False, 'drop_ref_ch': False, 'crop': True}\n"
     ]
    },
    {
     "name": "stderr",
     "output_type": "stream",
     "text": [
      "[Parallel(n_jobs=1)]: Using backend SequentialBackend with 1 concurrent workers.\n",
      "[Parallel(n_jobs=1)]: Done   1 out of   1 | elapsed:    1.1s remaining:    0.0s\n",
      "[Parallel(n_jobs=1)]: Done   1 out of   1 | elapsed:    1.1s finished\n",
      "C:\\Users\\Sage\\anaconda3\\lib\\site-packages\\autoreject\\ransac.py:229: RuntimeWarning: No bad channels to interpolate. Doing nothing...\n",
      "  epochs.interpolate_bads(reset_bads=True)\n"
     ]
    },
    {
     "name": "stdout",
     "output_type": "stream",
     "text": [
      "logistic: 0.22424242424242427\n",
      "rf: 0.2\n",
      "{'l_freq': None, 'h_freq': None, 'auto_reject': 'ransac', 'ica': None, 'set_average_ref': True, 'apply_baseline': False, 'drop_ref_ch': True, 'crop': False}\n"
     ]
    },
    {
     "name": "stderr",
     "output_type": "stream",
     "text": [
      "[Parallel(n_jobs=1)]: Using backend SequentialBackend with 1 concurrent workers.\n",
      "[Parallel(n_jobs=1)]: Done   1 out of   1 | elapsed:    1.0s remaining:    0.0s\n",
      "[Parallel(n_jobs=1)]: Done   1 out of   1 | elapsed:    1.0s finished\n",
      "C:\\Users\\Sage\\anaconda3\\lib\\site-packages\\autoreject\\ransac.py:229: RuntimeWarning: No bad channels to interpolate. Doing nothing...\n",
      "  epochs.interpolate_bads(reset_bads=True)\n"
     ]
    },
    {
     "name": "stdout",
     "output_type": "stream",
     "text": [
      "logistic: 0.27878787878787875\n",
      "rf: 0.26060606060606056\n",
      "{'l_freq': None, 'h_freq': None, 'auto_reject': 'ransac', 'ica': None, 'set_average_ref': True, 'apply_baseline': False, 'drop_ref_ch': True, 'crop': True}\n"
     ]
    },
    {
     "name": "stderr",
     "output_type": "stream",
     "text": [
      "[Parallel(n_jobs=1)]: Using backend SequentialBackend with 1 concurrent workers.\n",
      "[Parallel(n_jobs=1)]: Done   1 out of   1 | elapsed:    1.5s remaining:    0.0s\n",
      "[Parallel(n_jobs=1)]: Done   1 out of   1 | elapsed:    1.5s finished\n",
      "C:\\Users\\Sage\\anaconda3\\lib\\site-packages\\autoreject\\ransac.py:229: RuntimeWarning: No bad channels to interpolate. Doing nothing...\n",
      "  epochs.interpolate_bads(reset_bads=True)\n"
     ]
    },
    {
     "name": "stdout",
     "output_type": "stream",
     "text": [
      "logistic: 0.2727272727272727\n",
      "rf: 0.18787878787878787\n",
      "{'l_freq': None, 'h_freq': None, 'auto_reject': 'ransac', 'ica': None, 'set_average_ref': True, 'apply_baseline': True, 'drop_ref_ch': False, 'crop': False}\n"
     ]
    },
    {
     "name": "stderr",
     "output_type": "stream",
     "text": [
      "[Parallel(n_jobs=1)]: Using backend SequentialBackend with 1 concurrent workers.\n",
      "[Parallel(n_jobs=1)]: Done   1 out of   1 | elapsed:    1.6s remaining:    0.0s\n",
      "[Parallel(n_jobs=1)]: Done   1 out of   1 | elapsed:    1.6s finished\n",
      "C:\\Users\\Sage\\anaconda3\\lib\\site-packages\\autoreject\\ransac.py:229: RuntimeWarning: No bad channels to interpolate. Doing nothing...\n",
      "  epochs.interpolate_bads(reset_bads=True)\n"
     ]
    },
    {
     "name": "stdout",
     "output_type": "stream",
     "text": [
      "logistic: 0.32121212121212117\n",
      "rf: 0.3151515151515151\n",
      "{'l_freq': None, 'h_freq': None, 'auto_reject': 'ransac', 'ica': None, 'set_average_ref': True, 'apply_baseline': True, 'drop_ref_ch': False, 'crop': True}\n"
     ]
    },
    {
     "name": "stderr",
     "output_type": "stream",
     "text": [
      "[Parallel(n_jobs=1)]: Using backend SequentialBackend with 1 concurrent workers.\n",
      "[Parallel(n_jobs=1)]: Done   1 out of   1 | elapsed:    1.1s remaining:    0.0s\n",
      "[Parallel(n_jobs=1)]: Done   1 out of   1 | elapsed:    1.1s finished\n",
      "C:\\Users\\Sage\\anaconda3\\lib\\site-packages\\autoreject\\ransac.py:229: RuntimeWarning: No bad channels to interpolate. Doing nothing...\n",
      "  epochs.interpolate_bads(reset_bads=True)\n"
     ]
    },
    {
     "name": "stdout",
     "output_type": "stream",
     "text": [
      "logistic: 0.3151515151515151\n",
      "rf: 0.23030303030303031\n",
      "{'l_freq': None, 'h_freq': None, 'auto_reject': 'ransac', 'ica': None, 'set_average_ref': True, 'apply_baseline': True, 'drop_ref_ch': True, 'crop': False}\n"
     ]
    },
    {
     "name": "stderr",
     "output_type": "stream",
     "text": [
      "[Parallel(n_jobs=1)]: Using backend SequentialBackend with 1 concurrent workers.\n",
      "[Parallel(n_jobs=1)]: Done   1 out of   1 | elapsed:    1.1s remaining:    0.0s\n",
      "[Parallel(n_jobs=1)]: Done   1 out of   1 | elapsed:    1.1s finished\n",
      "C:\\Users\\Sage\\anaconda3\\lib\\site-packages\\autoreject\\ransac.py:229: RuntimeWarning: No bad channels to interpolate. Doing nothing...\n",
      "  epochs.interpolate_bads(reset_bads=True)\n"
     ]
    },
    {
     "name": "stdout",
     "output_type": "stream",
     "text": [
      "logistic: 0.3090909090909091\n",
      "rf: 0.2606060606060606\n",
      "{'l_freq': None, 'h_freq': None, 'auto_reject': 'ransac', 'ica': None, 'set_average_ref': True, 'apply_baseline': True, 'drop_ref_ch': True, 'crop': True}\n"
     ]
    },
    {
     "name": "stderr",
     "output_type": "stream",
     "text": [
      "[Parallel(n_jobs=1)]: Using backend SequentialBackend with 1 concurrent workers.\n",
      "[Parallel(n_jobs=1)]: Done   1 out of   1 | elapsed:    1.1s remaining:    0.0s\n",
      "[Parallel(n_jobs=1)]: Done   1 out of   1 | elapsed:    1.1s finished\n",
      "C:\\Users\\Sage\\anaconda3\\lib\\site-packages\\autoreject\\ransac.py:229: RuntimeWarning: No bad channels to interpolate. Doing nothing...\n",
      "  epochs.interpolate_bads(reset_bads=True)\n"
     ]
    },
    {
     "name": "stdout",
     "output_type": "stream",
     "text": [
      "logistic: 0.30303030303030304\n",
      "rf: 0.24848484848484848\n",
      "{'l_freq': None, 'h_freq': None, 'auto_reject': 'ransac', 'ica': [0], 'set_average_ref': False, 'apply_baseline': False, 'drop_ref_ch': False, 'crop': False}\n"
     ]
    },
    {
     "name": "stderr",
     "output_type": "stream",
     "text": [
      "[Parallel(n_jobs=1)]: Using backend SequentialBackend with 1 concurrent workers.\n",
      "[Parallel(n_jobs=1)]: Done   1 out of   1 | elapsed:    1.1s remaining:    0.0s\n",
      "[Parallel(n_jobs=1)]: Done   1 out of   1 | elapsed:    1.1s finished\n",
      "C:\\Users\\Sage\\anaconda3\\lib\\site-packages\\autoreject\\ransac.py:229: RuntimeWarning: No bad channels to interpolate. Doing nothing...\n",
      "  epochs.interpolate_bads(reset_bads=True)\n"
     ]
    },
    {
     "name": "stdout",
     "output_type": "stream",
     "text": [
      "logistic: 0.28484848484848485\n",
      "rf: 0.1939393939393939\n",
      "{'l_freq': None, 'h_freq': None, 'auto_reject': 'ransac', 'ica': [0], 'set_average_ref': False, 'apply_baseline': False, 'drop_ref_ch': False, 'crop': True}\n"
     ]
    },
    {
     "name": "stderr",
     "output_type": "stream",
     "text": [
      "[Parallel(n_jobs=1)]: Using backend SequentialBackend with 1 concurrent workers.\n",
      "[Parallel(n_jobs=1)]: Done   1 out of   1 | elapsed:    1.0s remaining:    0.0s\n",
      "[Parallel(n_jobs=1)]: Done   1 out of   1 | elapsed:    1.0s finished\n",
      "C:\\Users\\Sage\\anaconda3\\lib\\site-packages\\autoreject\\ransac.py:229: RuntimeWarning: No bad channels to interpolate. Doing nothing...\n",
      "  epochs.interpolate_bads(reset_bads=True)\n"
     ]
    },
    {
     "name": "stdout",
     "output_type": "stream",
     "text": [
      "logistic: 0.2848484848484848\n",
      "rf: 0.1696969696969697\n",
      "{'l_freq': None, 'h_freq': None, 'auto_reject': 'ransac', 'ica': [0], 'set_average_ref': False, 'apply_baseline': False, 'drop_ref_ch': True, 'crop': False}\n"
     ]
    },
    {
     "name": "stderr",
     "output_type": "stream",
     "text": [
      "[Parallel(n_jobs=1)]: Using backend SequentialBackend with 1 concurrent workers.\n",
      "[Parallel(n_jobs=1)]: Done   1 out of   1 | elapsed:    1.1s remaining:    0.0s\n",
      "[Parallel(n_jobs=1)]: Done   1 out of   1 | elapsed:    1.1s finished\n",
      "C:\\Users\\Sage\\anaconda3\\lib\\site-packages\\autoreject\\ransac.py:229: RuntimeWarning: No bad channels to interpolate. Doing nothing...\n",
      "  epochs.interpolate_bads(reset_bads=True)\n"
     ]
    },
    {
     "name": "stdout",
     "output_type": "stream",
     "text": [
      "logistic: 0.27878787878787875\n",
      "rf: 0.296969696969697\n",
      "{'l_freq': None, 'h_freq': None, 'auto_reject': 'ransac', 'ica': [0], 'set_average_ref': False, 'apply_baseline': False, 'drop_ref_ch': True, 'crop': True}\n"
     ]
    },
    {
     "name": "stderr",
     "output_type": "stream",
     "text": [
      "[Parallel(n_jobs=1)]: Using backend SequentialBackend with 1 concurrent workers.\n",
      "[Parallel(n_jobs=1)]: Done   1 out of   1 | elapsed:    1.1s remaining:    0.0s\n",
      "[Parallel(n_jobs=1)]: Done   1 out of   1 | elapsed:    1.1s finished\n",
      "C:\\Users\\Sage\\anaconda3\\lib\\site-packages\\autoreject\\ransac.py:229: RuntimeWarning: No bad channels to interpolate. Doing nothing...\n",
      "  epochs.interpolate_bads(reset_bads=True)\n"
     ]
    },
    {
     "name": "stdout",
     "output_type": "stream",
     "text": [
      "logistic: 0.2727272727272727\n",
      "rf: 0.1696969696969697\n",
      "{'l_freq': None, 'h_freq': None, 'auto_reject': 'ransac', 'ica': [0], 'set_average_ref': False, 'apply_baseline': True, 'drop_ref_ch': False, 'crop': False}\n"
     ]
    },
    {
     "name": "stderr",
     "output_type": "stream",
     "text": [
      "[Parallel(n_jobs=1)]: Using backend SequentialBackend with 1 concurrent workers.\n",
      "[Parallel(n_jobs=1)]: Done   1 out of   1 | elapsed:    1.0s remaining:    0.0s\n",
      "[Parallel(n_jobs=1)]: Done   1 out of   1 | elapsed:    1.0s finished\n",
      "C:\\Users\\Sage\\anaconda3\\lib\\site-packages\\autoreject\\ransac.py:229: RuntimeWarning: No bad channels to interpolate. Doing nothing...\n",
      "  epochs.interpolate_bads(reset_bads=True)\n"
     ]
    },
    {
     "name": "stdout",
     "output_type": "stream",
     "text": [
      "logistic: 0.2909090909090909\n",
      "rf: 0.2727272727272727\n",
      "{'l_freq': None, 'h_freq': None, 'auto_reject': 'ransac', 'ica': [0], 'set_average_ref': False, 'apply_baseline': True, 'drop_ref_ch': False, 'crop': True}\n"
     ]
    },
    {
     "name": "stderr",
     "output_type": "stream",
     "text": [
      "[Parallel(n_jobs=1)]: Using backend SequentialBackend with 1 concurrent workers.\n",
      "[Parallel(n_jobs=1)]: Done   1 out of   1 | elapsed:    1.0s remaining:    0.0s\n",
      "[Parallel(n_jobs=1)]: Done   1 out of   1 | elapsed:    1.0s finished\n",
      "C:\\Users\\Sage\\anaconda3\\lib\\site-packages\\autoreject\\ransac.py:229: RuntimeWarning: No bad channels to interpolate. Doing nothing...\n",
      "  epochs.interpolate_bads(reset_bads=True)\n"
     ]
    },
    {
     "name": "stdout",
     "output_type": "stream",
     "text": [
      "logistic: 0.33333333333333337\n",
      "rf: 0.30303030303030304\n",
      "{'l_freq': None, 'h_freq': None, 'auto_reject': 'ransac', 'ica': [0], 'set_average_ref': False, 'apply_baseline': True, 'drop_ref_ch': True, 'crop': False}\n"
     ]
    },
    {
     "name": "stderr",
     "output_type": "stream",
     "text": [
      "[Parallel(n_jobs=1)]: Using backend SequentialBackend with 1 concurrent workers.\n",
      "[Parallel(n_jobs=1)]: Done   1 out of   1 | elapsed:    1.6s remaining:    0.0s\n",
      "[Parallel(n_jobs=1)]: Done   1 out of   1 | elapsed:    1.6s finished\n",
      "C:\\Users\\Sage\\anaconda3\\lib\\site-packages\\autoreject\\ransac.py:229: RuntimeWarning: No bad channels to interpolate. Doing nothing...\n",
      "  epochs.interpolate_bads(reset_bads=True)\n"
     ]
    },
    {
     "name": "stdout",
     "output_type": "stream",
     "text": [
      "logistic: 0.29696969696969694\n",
      "rf: 0.2545454545454545\n",
      "{'l_freq': None, 'h_freq': None, 'auto_reject': 'ransac', 'ica': [0], 'set_average_ref': False, 'apply_baseline': True, 'drop_ref_ch': True, 'crop': True}\n"
     ]
    },
    {
     "name": "stderr",
     "output_type": "stream",
     "text": [
      "[Parallel(n_jobs=1)]: Using backend SequentialBackend with 1 concurrent workers.\n",
      "[Parallel(n_jobs=1)]: Done   1 out of   1 | elapsed:    1.1s remaining:    0.0s\n",
      "[Parallel(n_jobs=1)]: Done   1 out of   1 | elapsed:    1.1s finished\n",
      "C:\\Users\\Sage\\anaconda3\\lib\\site-packages\\autoreject\\ransac.py:229: RuntimeWarning: No bad channels to interpolate. Doing nothing...\n",
      "  epochs.interpolate_bads(reset_bads=True)\n"
     ]
    },
    {
     "name": "stdout",
     "output_type": "stream",
     "text": [
      "logistic: 0.2848484848484848\n",
      "rf: 0.2666666666666667\n",
      "{'l_freq': None, 'h_freq': None, 'auto_reject': 'ransac', 'ica': [0], 'set_average_ref': True, 'apply_baseline': False, 'drop_ref_ch': False, 'crop': False}\n"
     ]
    },
    {
     "name": "stderr",
     "output_type": "stream",
     "text": [
      "[Parallel(n_jobs=1)]: Using backend SequentialBackend with 1 concurrent workers.\n",
      "[Parallel(n_jobs=1)]: Done   1 out of   1 | elapsed:    1.1s remaining:    0.0s\n",
      "[Parallel(n_jobs=1)]: Done   1 out of   1 | elapsed:    1.1s finished\n",
      "C:\\Users\\Sage\\anaconda3\\lib\\site-packages\\autoreject\\ransac.py:229: RuntimeWarning: No bad channels to interpolate. Doing nothing...\n",
      "  epochs.interpolate_bads(reset_bads=True)\n"
     ]
    },
    {
     "name": "stdout",
     "output_type": "stream",
     "text": [
      "logistic: 0.30303030303030304\n",
      "rf: 0.24848484848484848\n",
      "{'l_freq': None, 'h_freq': None, 'auto_reject': 'ransac', 'ica': [0], 'set_average_ref': True, 'apply_baseline': False, 'drop_ref_ch': False, 'crop': True}\n"
     ]
    },
    {
     "name": "stderr",
     "output_type": "stream",
     "text": [
      "[Parallel(n_jobs=1)]: Using backend SequentialBackend with 1 concurrent workers.\n",
      "[Parallel(n_jobs=1)]: Done   1 out of   1 | elapsed:    1.0s remaining:    0.0s\n",
      "[Parallel(n_jobs=1)]: Done   1 out of   1 | elapsed:    1.0s finished\n",
      "C:\\Users\\Sage\\anaconda3\\lib\\site-packages\\autoreject\\ransac.py:229: RuntimeWarning: No bad channels to interpolate. Doing nothing...\n",
      "  epochs.interpolate_bads(reset_bads=True)\n"
     ]
    },
    {
     "name": "stdout",
     "output_type": "stream",
     "text": [
      "logistic: 0.29696969696969694\n",
      "rf: 0.24242424242424243\n",
      "{'l_freq': None, 'h_freq': None, 'auto_reject': 'ransac', 'ica': [0], 'set_average_ref': True, 'apply_baseline': False, 'drop_ref_ch': True, 'crop': False}\n"
     ]
    },
    {
     "name": "stderr",
     "output_type": "stream",
     "text": [
      "[Parallel(n_jobs=1)]: Using backend SequentialBackend with 1 concurrent workers.\n",
      "[Parallel(n_jobs=1)]: Done   1 out of   1 | elapsed:    1.0s remaining:    0.0s\n",
      "[Parallel(n_jobs=1)]: Done   1 out of   1 | elapsed:    1.0s finished\n",
      "C:\\Users\\Sage\\anaconda3\\lib\\site-packages\\autoreject\\ransac.py:229: RuntimeWarning: No bad channels to interpolate. Doing nothing...\n",
      "  epochs.interpolate_bads(reset_bads=True)\n"
     ]
    },
    {
     "name": "stdout",
     "output_type": "stream",
     "text": [
      "logistic: 0.3151515151515151\n",
      "rf: 0.24242424242424243\n",
      "{'l_freq': None, 'h_freq': None, 'auto_reject': 'ransac', 'ica': [0], 'set_average_ref': True, 'apply_baseline': False, 'drop_ref_ch': True, 'crop': True}\n"
     ]
    },
    {
     "name": "stderr",
     "output_type": "stream",
     "text": [
      "[Parallel(n_jobs=1)]: Using backend SequentialBackend with 1 concurrent workers.\n",
      "[Parallel(n_jobs=1)]: Done   1 out of   1 | elapsed:    1.0s remaining:    0.0s\n",
      "[Parallel(n_jobs=1)]: Done   1 out of   1 | elapsed:    1.0s finished\n",
      "C:\\Users\\Sage\\anaconda3\\lib\\site-packages\\autoreject\\ransac.py:229: RuntimeWarning: No bad channels to interpolate. Doing nothing...\n",
      "  epochs.interpolate_bads(reset_bads=True)\n"
     ]
    },
    {
     "name": "stdout",
     "output_type": "stream",
     "text": [
      "logistic: 0.3333333333333333\n",
      "rf: 0.24242424242424243\n",
      "{'l_freq': None, 'h_freq': None, 'auto_reject': 'ransac', 'ica': [0], 'set_average_ref': True, 'apply_baseline': True, 'drop_ref_ch': False, 'crop': False}\n"
     ]
    },
    {
     "name": "stderr",
     "output_type": "stream",
     "text": [
      "[Parallel(n_jobs=1)]: Using backend SequentialBackend with 1 concurrent workers.\n",
      "[Parallel(n_jobs=1)]: Done   1 out of   1 | elapsed:    1.1s remaining:    0.0s\n",
      "[Parallel(n_jobs=1)]: Done   1 out of   1 | elapsed:    1.1s finished\n",
      "C:\\Users\\Sage\\anaconda3\\lib\\site-packages\\autoreject\\ransac.py:229: RuntimeWarning: No bad channels to interpolate. Doing nothing...\n",
      "  epochs.interpolate_bads(reset_bads=True)\n"
     ]
    },
    {
     "name": "stdout",
     "output_type": "stream",
     "text": [
      "logistic: 0.33939393939393936\n",
      "rf: 0.2909090909090909\n",
      "{'l_freq': None, 'h_freq': None, 'auto_reject': 'ransac', 'ica': [0], 'set_average_ref': True, 'apply_baseline': True, 'drop_ref_ch': False, 'crop': True}\n"
     ]
    },
    {
     "name": "stderr",
     "output_type": "stream",
     "text": [
      "[Parallel(n_jobs=1)]: Using backend SequentialBackend with 1 concurrent workers.\n",
      "[Parallel(n_jobs=1)]: Done   1 out of   1 | elapsed:    1.1s remaining:    0.0s\n",
      "[Parallel(n_jobs=1)]: Done   1 out of   1 | elapsed:    1.1s finished\n",
      "C:\\Users\\Sage\\anaconda3\\lib\\site-packages\\autoreject\\ransac.py:229: RuntimeWarning: No bad channels to interpolate. Doing nothing...\n",
      "  epochs.interpolate_bads(reset_bads=True)\n"
     ]
    },
    {
     "name": "stdout",
     "output_type": "stream",
     "text": [
      "logistic: 0.2909090909090909\n",
      "rf: 0.2545454545454545\n",
      "{'l_freq': None, 'h_freq': None, 'auto_reject': 'ransac', 'ica': [0], 'set_average_ref': True, 'apply_baseline': True, 'drop_ref_ch': True, 'crop': False}\n"
     ]
    },
    {
     "name": "stderr",
     "output_type": "stream",
     "text": [
      "[Parallel(n_jobs=1)]: Using backend SequentialBackend with 1 concurrent workers.\n",
      "[Parallel(n_jobs=1)]: Done   1 out of   1 | elapsed:    1.0s remaining:    0.0s\n",
      "[Parallel(n_jobs=1)]: Done   1 out of   1 | elapsed:    1.0s finished\n",
      "C:\\Users\\Sage\\anaconda3\\lib\\site-packages\\autoreject\\ransac.py:229: RuntimeWarning: No bad channels to interpolate. Doing nothing...\n",
      "  epochs.interpolate_bads(reset_bads=True)\n"
     ]
    },
    {
     "name": "stdout",
     "output_type": "stream",
     "text": [
      "logistic: 0.32727272727272727\n",
      "rf: 0.30303030303030304\n",
      "{'l_freq': None, 'h_freq': None, 'auto_reject': 'ransac', 'ica': [0], 'set_average_ref': True, 'apply_baseline': True, 'drop_ref_ch': True, 'crop': True}\n"
     ]
    },
    {
     "name": "stderr",
     "output_type": "stream",
     "text": [
      "[Parallel(n_jobs=1)]: Using backend SequentialBackend with 1 concurrent workers.\n",
      "[Parallel(n_jobs=1)]: Done   1 out of   1 | elapsed:    1.0s remaining:    0.0s\n",
      "[Parallel(n_jobs=1)]: Done   1 out of   1 | elapsed:    1.0s finished\n",
      "C:\\Users\\Sage\\anaconda3\\lib\\site-packages\\autoreject\\ransac.py:229: RuntimeWarning: No bad channels to interpolate. Doing nothing...\n",
      "  epochs.interpolate_bads(reset_bads=True)\n"
     ]
    },
    {
     "name": "stdout",
     "output_type": "stream",
     "text": [
      "logistic: 0.30303030303030304\n",
      "rf: 0.2606060606060606\n",
      "{'l_freq': None, 'h_freq': None, 'auto_reject': 'ransac', 'ica': [1], 'set_average_ref': False, 'apply_baseline': False, 'drop_ref_ch': False, 'crop': False}\n"
     ]
    },
    {
     "name": "stderr",
     "output_type": "stream",
     "text": [
      "[Parallel(n_jobs=1)]: Using backend SequentialBackend with 1 concurrent workers.\n",
      "[Parallel(n_jobs=1)]: Done   1 out of   1 | elapsed:    1.6s remaining:    0.0s\n",
      "[Parallel(n_jobs=1)]: Done   1 out of   1 | elapsed:    1.6s finished\n",
      "C:\\Users\\Sage\\anaconda3\\lib\\site-packages\\autoreject\\ransac.py:229: RuntimeWarning: No bad channels to interpolate. Doing nothing...\n",
      "  epochs.interpolate_bads(reset_bads=True)\n"
     ]
    },
    {
     "name": "stdout",
     "output_type": "stream",
     "text": [
      "logistic: 0.27272727272727276\n",
      "rf: 0.36363636363636365\n",
      "{'l_freq': None, 'h_freq': None, 'auto_reject': 'ransac', 'ica': [1], 'set_average_ref': False, 'apply_baseline': False, 'drop_ref_ch': False, 'crop': True}\n"
     ]
    },
    {
     "name": "stderr",
     "output_type": "stream",
     "text": [
      "[Parallel(n_jobs=1)]: Using backend SequentialBackend with 1 concurrent workers.\n",
      "[Parallel(n_jobs=1)]: Done   1 out of   1 | elapsed:    1.6s remaining:    0.0s\n",
      "[Parallel(n_jobs=1)]: Done   1 out of   1 | elapsed:    1.6s finished\n",
      "C:\\Users\\Sage\\anaconda3\\lib\\site-packages\\autoreject\\ransac.py:229: RuntimeWarning: No bad channels to interpolate. Doing nothing...\n",
      "  epochs.interpolate_bads(reset_bads=True)\n"
     ]
    },
    {
     "name": "stdout",
     "output_type": "stream",
     "text": [
      "logistic: 0.33939393939393936\n",
      "rf: 0.3333333333333333\n",
      "{'l_freq': None, 'h_freq': None, 'auto_reject': 'ransac', 'ica': [1], 'set_average_ref': False, 'apply_baseline': False, 'drop_ref_ch': True, 'crop': False}\n"
     ]
    },
    {
     "name": "stderr",
     "output_type": "stream",
     "text": [
      "[Parallel(n_jobs=1)]: Using backend SequentialBackend with 1 concurrent workers.\n",
      "[Parallel(n_jobs=1)]: Done   1 out of   1 | elapsed:    1.2s remaining:    0.0s\n",
      "[Parallel(n_jobs=1)]: Done   1 out of   1 | elapsed:    1.2s finished\n",
      "C:\\Users\\Sage\\anaconda3\\lib\\site-packages\\autoreject\\ransac.py:229: RuntimeWarning: No bad channels to interpolate. Doing nothing...\n",
      "  epochs.interpolate_bads(reset_bads=True)\n"
     ]
    },
    {
     "name": "stdout",
     "output_type": "stream",
     "text": [
      "logistic: 0.2909090909090909\n",
      "rf: 0.3090909090909091\n",
      "{'l_freq': None, 'h_freq': None, 'auto_reject': 'ransac', 'ica': [1], 'set_average_ref': False, 'apply_baseline': False, 'drop_ref_ch': True, 'crop': True}\n"
     ]
    },
    {
     "name": "stderr",
     "output_type": "stream",
     "text": [
      "[Parallel(n_jobs=1)]: Using backend SequentialBackend with 1 concurrent workers.\n",
      "[Parallel(n_jobs=1)]: Done   1 out of   1 | elapsed:    1.1s remaining:    0.0s\n",
      "[Parallel(n_jobs=1)]: Done   1 out of   1 | elapsed:    1.1s finished\n",
      "C:\\Users\\Sage\\anaconda3\\lib\\site-packages\\autoreject\\ransac.py:229: RuntimeWarning: No bad channels to interpolate. Doing nothing...\n",
      "  epochs.interpolate_bads(reset_bads=True)\n"
     ]
    },
    {
     "name": "stdout",
     "output_type": "stream",
     "text": [
      "logistic: 0.35151515151515145\n",
      "rf: 0.3151515151515152\n",
      "{'l_freq': None, 'h_freq': None, 'auto_reject': 'ransac', 'ica': [1], 'set_average_ref': False, 'apply_baseline': True, 'drop_ref_ch': False, 'crop': False}\n"
     ]
    },
    {
     "name": "stderr",
     "output_type": "stream",
     "text": [
      "[Parallel(n_jobs=1)]: Using backend SequentialBackend with 1 concurrent workers.\n",
      "[Parallel(n_jobs=1)]: Done   1 out of   1 | elapsed:    1.1s remaining:    0.0s\n",
      "[Parallel(n_jobs=1)]: Done   1 out of   1 | elapsed:    1.1s finished\n",
      "C:\\Users\\Sage\\anaconda3\\lib\\site-packages\\autoreject\\ransac.py:229: RuntimeWarning: No bad channels to interpolate. Doing nothing...\n",
      "  epochs.interpolate_bads(reset_bads=True)\n"
     ]
    },
    {
     "name": "stdout",
     "output_type": "stream",
     "text": [
      "logistic: 0.32121212121212117\n",
      "rf: 0.3454545454545454\n",
      "{'l_freq': None, 'h_freq': None, 'auto_reject': 'ransac', 'ica': [1], 'set_average_ref': False, 'apply_baseline': True, 'drop_ref_ch': False, 'crop': True}\n"
     ]
    },
    {
     "name": "stderr",
     "output_type": "stream",
     "text": [
      "[Parallel(n_jobs=1)]: Using backend SequentialBackend with 1 concurrent workers.\n",
      "[Parallel(n_jobs=1)]: Done   1 out of   1 | elapsed:    1.0s remaining:    0.0s\n",
      "[Parallel(n_jobs=1)]: Done   1 out of   1 | elapsed:    1.0s finished\n",
      "C:\\Users\\Sage\\anaconda3\\lib\\site-packages\\autoreject\\ransac.py:229: RuntimeWarning: No bad channels to interpolate. Doing nothing...\n",
      "  epochs.interpolate_bads(reset_bads=True)\n"
     ]
    },
    {
     "name": "stdout",
     "output_type": "stream",
     "text": [
      "logistic: 0.32727272727272727\n",
      "rf: 0.37575757575757573\n",
      "{'l_freq': None, 'h_freq': None, 'auto_reject': 'ransac', 'ica': [1], 'set_average_ref': False, 'apply_baseline': True, 'drop_ref_ch': True, 'crop': False}\n"
     ]
    },
    {
     "name": "stderr",
     "output_type": "stream",
     "text": [
      "[Parallel(n_jobs=1)]: Using backend SequentialBackend with 1 concurrent workers.\n",
      "[Parallel(n_jobs=1)]: Done   1 out of   1 | elapsed:    1.3s remaining:    0.0s\n",
      "[Parallel(n_jobs=1)]: Done   1 out of   1 | elapsed:    1.3s finished\n",
      "C:\\Users\\Sage\\anaconda3\\lib\\site-packages\\autoreject\\ransac.py:229: RuntimeWarning: No bad channels to interpolate. Doing nothing...\n",
      "  epochs.interpolate_bads(reset_bads=True)\n"
     ]
    },
    {
     "name": "stdout",
     "output_type": "stream",
     "text": [
      "logistic: 0.31515151515151507\n",
      "rf: 0.2666666666666667\n",
      "{'l_freq': None, 'h_freq': None, 'auto_reject': 'ransac', 'ica': [1], 'set_average_ref': False, 'apply_baseline': True, 'drop_ref_ch': True, 'crop': True}\n"
     ]
    },
    {
     "name": "stderr",
     "output_type": "stream",
     "text": [
      "[Parallel(n_jobs=1)]: Using backend SequentialBackend with 1 concurrent workers.\n",
      "[Parallel(n_jobs=1)]: Done   1 out of   1 | elapsed:    1.1s remaining:    0.0s\n",
      "[Parallel(n_jobs=1)]: Done   1 out of   1 | elapsed:    1.1s finished\n",
      "C:\\Users\\Sage\\anaconda3\\lib\\site-packages\\autoreject\\ransac.py:229: RuntimeWarning: No bad channels to interpolate. Doing nothing...\n",
      "  epochs.interpolate_bads(reset_bads=True)\n"
     ]
    },
    {
     "name": "stdout",
     "output_type": "stream",
     "text": [
      "logistic: 0.3454545454545454\n",
      "rf: 0.2606060606060606\n",
      "{'l_freq': None, 'h_freq': None, 'auto_reject': 'ransac', 'ica': [1], 'set_average_ref': True, 'apply_baseline': False, 'drop_ref_ch': False, 'crop': False}\n"
     ]
    },
    {
     "name": "stderr",
     "output_type": "stream",
     "text": [
      "[Parallel(n_jobs=1)]: Using backend SequentialBackend with 1 concurrent workers.\n",
      "[Parallel(n_jobs=1)]: Done   1 out of   1 | elapsed:    1.1s remaining:    0.0s\n",
      "[Parallel(n_jobs=1)]: Done   1 out of   1 | elapsed:    1.1s finished\n",
      "C:\\Users\\Sage\\anaconda3\\lib\\site-packages\\autoreject\\ransac.py:229: RuntimeWarning: No bad channels to interpolate. Doing nothing...\n",
      "  epochs.interpolate_bads(reset_bads=True)\n"
     ]
    },
    {
     "name": "stdout",
     "output_type": "stream",
     "text": [
      "logistic: 0.30303030303030304\n",
      "rf: 0.23030303030303031\n",
      "{'l_freq': None, 'h_freq': None, 'auto_reject': 'ransac', 'ica': [1], 'set_average_ref': True, 'apply_baseline': False, 'drop_ref_ch': False, 'crop': True}\n"
     ]
    },
    {
     "name": "stderr",
     "output_type": "stream",
     "text": [
      "[Parallel(n_jobs=1)]: Using backend SequentialBackend with 1 concurrent workers.\n",
      "[Parallel(n_jobs=1)]: Done   1 out of   1 | elapsed:    1.1s remaining:    0.0s\n",
      "[Parallel(n_jobs=1)]: Done   1 out of   1 | elapsed:    1.1s finished\n",
      "C:\\Users\\Sage\\anaconda3\\lib\\site-packages\\autoreject\\ransac.py:229: RuntimeWarning: No bad channels to interpolate. Doing nothing...\n",
      "  epochs.interpolate_bads(reset_bads=True)\n"
     ]
    },
    {
     "name": "stdout",
     "output_type": "stream",
     "text": [
      "logistic: 0.2909090909090909\n",
      "rf: 0.24848484848484848\n",
      "{'l_freq': None, 'h_freq': None, 'auto_reject': 'ransac', 'ica': [1], 'set_average_ref': True, 'apply_baseline': False, 'drop_ref_ch': True, 'crop': False}\n"
     ]
    },
    {
     "name": "stderr",
     "output_type": "stream",
     "text": [
      "[Parallel(n_jobs=1)]: Using backend SequentialBackend with 1 concurrent workers.\n",
      "[Parallel(n_jobs=1)]: Done   1 out of   1 | elapsed:    1.0s remaining:    0.0s\n",
      "[Parallel(n_jobs=1)]: Done   1 out of   1 | elapsed:    1.0s finished\n",
      "C:\\Users\\Sage\\anaconda3\\lib\\site-packages\\autoreject\\ransac.py:229: RuntimeWarning: No bad channels to interpolate. Doing nothing...\n",
      "  epochs.interpolate_bads(reset_bads=True)\n"
     ]
    },
    {
     "name": "stdout",
     "output_type": "stream",
     "text": [
      "logistic: 0.2909090909090909\n",
      "rf: 0.24848484848484848\n",
      "{'l_freq': None, 'h_freq': None, 'auto_reject': 'ransac', 'ica': [1], 'set_average_ref': True, 'apply_baseline': False, 'drop_ref_ch': True, 'crop': True}\n"
     ]
    },
    {
     "name": "stderr",
     "output_type": "stream",
     "text": [
      "[Parallel(n_jobs=1)]: Using backend SequentialBackend with 1 concurrent workers.\n",
      "[Parallel(n_jobs=1)]: Done   1 out of   1 | elapsed:    1.5s remaining:    0.0s\n",
      "[Parallel(n_jobs=1)]: Done   1 out of   1 | elapsed:    1.5s finished\n",
      "C:\\Users\\Sage\\anaconda3\\lib\\site-packages\\autoreject\\ransac.py:229: RuntimeWarning: No bad channels to interpolate. Doing nothing...\n",
      "  epochs.interpolate_bads(reset_bads=True)\n"
     ]
    },
    {
     "name": "stdout",
     "output_type": "stream",
     "text": [
      "logistic: 0.2727272727272727\n",
      "rf: 0.2606060606060606\n",
      "{'l_freq': None, 'h_freq': None, 'auto_reject': 'ransac', 'ica': [1], 'set_average_ref': True, 'apply_baseline': True, 'drop_ref_ch': False, 'crop': False}\n"
     ]
    },
    {
     "name": "stderr",
     "output_type": "stream",
     "text": [
      "[Parallel(n_jobs=1)]: Using backend SequentialBackend with 1 concurrent workers.\n",
      "[Parallel(n_jobs=1)]: Done   1 out of   1 | elapsed:    1.5s remaining:    0.0s\n",
      "[Parallel(n_jobs=1)]: Done   1 out of   1 | elapsed:    1.5s finished\n",
      "C:\\Users\\Sage\\anaconda3\\lib\\site-packages\\autoreject\\ransac.py:229: RuntimeWarning: No bad channels to interpolate. Doing nothing...\n",
      "  epochs.interpolate_bads(reset_bads=True)\n"
     ]
    },
    {
     "name": "stdout",
     "output_type": "stream",
     "text": [
      "logistic: 0.3090909090909091\n",
      "rf: 0.32121212121212117\n",
      "{'l_freq': None, 'h_freq': None, 'auto_reject': 'ransac', 'ica': [1], 'set_average_ref': True, 'apply_baseline': True, 'drop_ref_ch': False, 'crop': True}\n"
     ]
    },
    {
     "name": "stderr",
     "output_type": "stream",
     "text": [
      "[Parallel(n_jobs=1)]: Using backend SequentialBackend with 1 concurrent workers.\n",
      "[Parallel(n_jobs=1)]: Done   1 out of   1 | elapsed:    1.5s remaining:    0.0s\n",
      "[Parallel(n_jobs=1)]: Done   1 out of   1 | elapsed:    1.5s finished\n",
      "C:\\Users\\Sage\\anaconda3\\lib\\site-packages\\autoreject\\ransac.py:229: RuntimeWarning: No bad channels to interpolate. Doing nothing...\n",
      "  epochs.interpolate_bads(reset_bads=True)\n"
     ]
    },
    {
     "name": "stdout",
     "output_type": "stream",
     "text": [
      "logistic: 0.3151515151515151\n",
      "rf: 0.29696969696969694\n",
      "{'l_freq': None, 'h_freq': None, 'auto_reject': 'ransac', 'ica': [1], 'set_average_ref': True, 'apply_baseline': True, 'drop_ref_ch': True, 'crop': False}\n"
     ]
    },
    {
     "name": "stderr",
     "output_type": "stream",
     "text": [
      "[Parallel(n_jobs=1)]: Using backend SequentialBackend with 1 concurrent workers.\n",
      "[Parallel(n_jobs=1)]: Done   1 out of   1 | elapsed:    1.1s remaining:    0.0s\n",
      "[Parallel(n_jobs=1)]: Done   1 out of   1 | elapsed:    1.1s finished\n",
      "C:\\Users\\Sage\\anaconda3\\lib\\site-packages\\autoreject\\ransac.py:229: RuntimeWarning: No bad channels to interpolate. Doing nothing...\n",
      "  epochs.interpolate_bads(reset_bads=True)\n"
     ]
    },
    {
     "name": "stdout",
     "output_type": "stream",
     "text": [
      "logistic: 0.36363636363636365\n",
      "rf: 0.3090909090909091\n",
      "{'l_freq': None, 'h_freq': None, 'auto_reject': 'ransac', 'ica': [1], 'set_average_ref': True, 'apply_baseline': True, 'drop_ref_ch': True, 'crop': True}\n"
     ]
    },
    {
     "name": "stderr",
     "output_type": "stream",
     "text": [
      "[Parallel(n_jobs=1)]: Using backend SequentialBackend with 1 concurrent workers.\n",
      "[Parallel(n_jobs=1)]: Done   1 out of   1 | elapsed:    1.1s remaining:    0.0s\n",
      "[Parallel(n_jobs=1)]: Done   1 out of   1 | elapsed:    1.1s finished\n",
      "C:\\Users\\Sage\\anaconda3\\lib\\site-packages\\autoreject\\ransac.py:229: RuntimeWarning: No bad channels to interpolate. Doing nothing...\n",
      "  epochs.interpolate_bads(reset_bads=True)\n"
     ]
    },
    {
     "name": "stdout",
     "output_type": "stream",
     "text": [
      "logistic: 0.3333333333333333\n",
      "rf: 0.2666666666666667\n",
      "{'l_freq': None, 'h_freq': None, 'auto_reject': 'ransac', 'ica': [0, 1], 'set_average_ref': False, 'apply_baseline': False, 'drop_ref_ch': False, 'crop': False}\n"
     ]
    },
    {
     "name": "stderr",
     "output_type": "stream",
     "text": [
      "[Parallel(n_jobs=1)]: Using backend SequentialBackend with 1 concurrent workers.\n",
      "[Parallel(n_jobs=1)]: Done   1 out of   1 | elapsed:    1.1s remaining:    0.0s\n",
      "[Parallel(n_jobs=1)]: Done   1 out of   1 | elapsed:    1.1s finished\n",
      "C:\\Users\\Sage\\anaconda3\\lib\\site-packages\\autoreject\\ransac.py:229: RuntimeWarning: No bad channels to interpolate. Doing nothing...\n",
      "  epochs.interpolate_bads(reset_bads=True)\n"
     ]
    },
    {
     "name": "stdout",
     "output_type": "stream",
     "text": [
      "logistic: 0.27878787878787875\n",
      "rf: 0.303030303030303\n",
      "{'l_freq': None, 'h_freq': None, 'auto_reject': 'ransac', 'ica': [0, 1], 'set_average_ref': False, 'apply_baseline': False, 'drop_ref_ch': False, 'crop': True}\n"
     ]
    },
    {
     "name": "stderr",
     "output_type": "stream",
     "text": [
      "[Parallel(n_jobs=1)]: Using backend SequentialBackend with 1 concurrent workers.\n",
      "[Parallel(n_jobs=1)]: Done   1 out of   1 | elapsed:    1.2s remaining:    0.0s\n",
      "[Parallel(n_jobs=1)]: Done   1 out of   1 | elapsed:    1.2s finished\n",
      "C:\\Users\\Sage\\anaconda3\\lib\\site-packages\\autoreject\\ransac.py:229: RuntimeWarning: No bad channels to interpolate. Doing nothing...\n",
      "  epochs.interpolate_bads(reset_bads=True)\n"
     ]
    },
    {
     "name": "stdout",
     "output_type": "stream",
     "text": [
      "logistic: 0.32727272727272727\n",
      "rf: 0.2909090909090909\n",
      "{'l_freq': None, 'h_freq': None, 'auto_reject': 'ransac', 'ica': [0, 1], 'set_average_ref': False, 'apply_baseline': False, 'drop_ref_ch': True, 'crop': False}\n"
     ]
    },
    {
     "name": "stderr",
     "output_type": "stream",
     "text": [
      "[Parallel(n_jobs=1)]: Using backend SequentialBackend with 1 concurrent workers.\n",
      "[Parallel(n_jobs=1)]: Done   1 out of   1 | elapsed:    1.3s remaining:    0.0s\n",
      "[Parallel(n_jobs=1)]: Done   1 out of   1 | elapsed:    1.3s finished\n",
      "C:\\Users\\Sage\\anaconda3\\lib\\site-packages\\autoreject\\ransac.py:229: RuntimeWarning: No bad channels to interpolate. Doing nothing...\n",
      "  epochs.interpolate_bads(reset_bads=True)\n"
     ]
    },
    {
     "name": "stdout",
     "output_type": "stream",
     "text": [
      "logistic: 0.3090909090909091\n",
      "rf: 0.2848484848484848\n",
      "{'l_freq': None, 'h_freq': None, 'auto_reject': 'ransac', 'ica': [0, 1], 'set_average_ref': False, 'apply_baseline': False, 'drop_ref_ch': True, 'crop': True}\n"
     ]
    },
    {
     "name": "stderr",
     "output_type": "stream",
     "text": [
      "[Parallel(n_jobs=1)]: Using backend SequentialBackend with 1 concurrent workers.\n",
      "[Parallel(n_jobs=1)]: Done   1 out of   1 | elapsed:    1.1s remaining:    0.0s\n",
      "[Parallel(n_jobs=1)]: Done   1 out of   1 | elapsed:    1.1s finished\n",
      "C:\\Users\\Sage\\anaconda3\\lib\\site-packages\\autoreject\\ransac.py:229: RuntimeWarning: No bad channels to interpolate. Doing nothing...\n",
      "  epochs.interpolate_bads(reset_bads=True)\n"
     ]
    },
    {
     "name": "stdout",
     "output_type": "stream",
     "text": [
      "logistic: 0.33939393939393936\n",
      "rf: 0.2606060606060606\n",
      "{'l_freq': None, 'h_freq': None, 'auto_reject': 'ransac', 'ica': [0, 1], 'set_average_ref': False, 'apply_baseline': True, 'drop_ref_ch': False, 'crop': False}\n"
     ]
    },
    {
     "name": "stderr",
     "output_type": "stream",
     "text": [
      "[Parallel(n_jobs=1)]: Using backend SequentialBackend with 1 concurrent workers.\n",
      "[Parallel(n_jobs=1)]: Done   1 out of   1 | elapsed:    1.1s remaining:    0.0s\n",
      "[Parallel(n_jobs=1)]: Done   1 out of   1 | elapsed:    1.1s finished\n",
      "C:\\Users\\Sage\\anaconda3\\lib\\site-packages\\autoreject\\ransac.py:229: RuntimeWarning: No bad channels to interpolate. Doing nothing...\n",
      "  epochs.interpolate_bads(reset_bads=True)\n"
     ]
    },
    {
     "name": "stdout",
     "output_type": "stream",
     "text": [
      "logistic: 0.36363636363636365\n",
      "rf: 0.2909090909090909\n",
      "{'l_freq': None, 'h_freq': None, 'auto_reject': 'ransac', 'ica': [0, 1], 'set_average_ref': False, 'apply_baseline': True, 'drop_ref_ch': False, 'crop': True}\n"
     ]
    },
    {
     "name": "stderr",
     "output_type": "stream",
     "text": [
      "[Parallel(n_jobs=1)]: Using backend SequentialBackend with 1 concurrent workers.\n",
      "[Parallel(n_jobs=1)]: Done   1 out of   1 | elapsed:    1.1s remaining:    0.0s\n",
      "[Parallel(n_jobs=1)]: Done   1 out of   1 | elapsed:    1.1s finished\n",
      "C:\\Users\\Sage\\anaconda3\\lib\\site-packages\\autoreject\\ransac.py:229: RuntimeWarning: No bad channels to interpolate. Doing nothing...\n",
      "  epochs.interpolate_bads(reset_bads=True)\n"
     ]
    },
    {
     "name": "stdout",
     "output_type": "stream",
     "text": [
      "logistic: 0.28484848484848485\n",
      "rf: 0.3151515151515151\n",
      "{'l_freq': None, 'h_freq': None, 'auto_reject': 'ransac', 'ica': [0, 1], 'set_average_ref': False, 'apply_baseline': True, 'drop_ref_ch': True, 'crop': False}\n"
     ]
    },
    {
     "name": "stderr",
     "output_type": "stream",
     "text": [
      "[Parallel(n_jobs=1)]: Using backend SequentialBackend with 1 concurrent workers.\n",
      "[Parallel(n_jobs=1)]: Done   1 out of   1 | elapsed:    1.0s remaining:    0.0s\n",
      "[Parallel(n_jobs=1)]: Done   1 out of   1 | elapsed:    1.0s finished\n",
      "C:\\Users\\Sage\\anaconda3\\lib\\site-packages\\autoreject\\ransac.py:229: RuntimeWarning: No bad channels to interpolate. Doing nothing...\n",
      "  epochs.interpolate_bads(reset_bads=True)\n"
     ]
    },
    {
     "name": "stdout",
     "output_type": "stream",
     "text": [
      "logistic: 0.32121212121212117\n",
      "rf: 0.36363636363636365\n",
      "{'l_freq': None, 'h_freq': None, 'auto_reject': 'ransac', 'ica': [0, 1], 'set_average_ref': False, 'apply_baseline': True, 'drop_ref_ch': True, 'crop': True}\n"
     ]
    },
    {
     "name": "stderr",
     "output_type": "stream",
     "text": [
      "[Parallel(n_jobs=1)]: Using backend SequentialBackend with 1 concurrent workers.\n",
      "[Parallel(n_jobs=1)]: Done   1 out of   1 | elapsed:    1.5s remaining:    0.0s\n",
      "[Parallel(n_jobs=1)]: Done   1 out of   1 | elapsed:    1.5s finished\n",
      "C:\\Users\\Sage\\anaconda3\\lib\\site-packages\\autoreject\\ransac.py:229: RuntimeWarning: No bad channels to interpolate. Doing nothing...\n",
      "  epochs.interpolate_bads(reset_bads=True)\n"
     ]
    },
    {
     "name": "stdout",
     "output_type": "stream",
     "text": [
      "logistic: 0.33939393939393936\n",
      "rf: 0.2909090909090909\n",
      "{'l_freq': None, 'h_freq': None, 'auto_reject': 'ransac', 'ica': [0, 1], 'set_average_ref': True, 'apply_baseline': False, 'drop_ref_ch': False, 'crop': False}\n"
     ]
    },
    {
     "name": "stderr",
     "output_type": "stream",
     "text": [
      "[Parallel(n_jobs=1)]: Using backend SequentialBackend with 1 concurrent workers.\n",
      "[Parallel(n_jobs=1)]: Done   1 out of   1 | elapsed:    1.6s remaining:    0.0s\n",
      "[Parallel(n_jobs=1)]: Done   1 out of   1 | elapsed:    1.6s finished\n",
      "C:\\Users\\Sage\\anaconda3\\lib\\site-packages\\autoreject\\ransac.py:229: RuntimeWarning: No bad channels to interpolate. Doing nothing...\n",
      "  epochs.interpolate_bads(reset_bads=True)\n"
     ]
    },
    {
     "name": "stdout",
     "output_type": "stream",
     "text": [
      "logistic: 0.24242424242424243\n",
      "rf: 0.2909090909090909\n",
      "{'l_freq': None, 'h_freq': None, 'auto_reject': 'ransac', 'ica': [0, 1], 'set_average_ref': True, 'apply_baseline': False, 'drop_ref_ch': False, 'crop': True}\n"
     ]
    },
    {
     "name": "stderr",
     "output_type": "stream",
     "text": [
      "[Parallel(n_jobs=1)]: Using backend SequentialBackend with 1 concurrent workers.\n",
      "[Parallel(n_jobs=1)]: Done   1 out of   1 | elapsed:    1.1s remaining:    0.0s\n",
      "[Parallel(n_jobs=1)]: Done   1 out of   1 | elapsed:    1.1s finished\n",
      "C:\\Users\\Sage\\anaconda3\\lib\\site-packages\\autoreject\\ransac.py:229: RuntimeWarning: No bad channels to interpolate. Doing nothing...\n",
      "  epochs.interpolate_bads(reset_bads=True)\n"
     ]
    },
    {
     "name": "stdout",
     "output_type": "stream",
     "text": [
      "logistic: 0.29696969696969694\n",
      "rf: 0.27878787878787875\n",
      "{'l_freq': None, 'h_freq': None, 'auto_reject': 'ransac', 'ica': [0, 1], 'set_average_ref': True, 'apply_baseline': False, 'drop_ref_ch': True, 'crop': False}\n"
     ]
    },
    {
     "name": "stderr",
     "output_type": "stream",
     "text": [
      "[Parallel(n_jobs=1)]: Using backend SequentialBackend with 1 concurrent workers.\n",
      "[Parallel(n_jobs=1)]: Done   1 out of   1 | elapsed:    1.1s remaining:    0.0s\n",
      "[Parallel(n_jobs=1)]: Done   1 out of   1 | elapsed:    1.1s finished\n",
      "C:\\Users\\Sage\\anaconda3\\lib\\site-packages\\autoreject\\ransac.py:229: RuntimeWarning: No bad channels to interpolate. Doing nothing...\n",
      "  epochs.interpolate_bads(reset_bads=True)\n"
     ]
    },
    {
     "name": "stdout",
     "output_type": "stream",
     "text": [
      "logistic: 0.2545454545454545\n",
      "rf: 0.2363636363636364\n",
      "{'l_freq': None, 'h_freq': None, 'auto_reject': 'ransac', 'ica': [0, 1], 'set_average_ref': True, 'apply_baseline': False, 'drop_ref_ch': True, 'crop': True}\n"
     ]
    },
    {
     "name": "stderr",
     "output_type": "stream",
     "text": [
      "[Parallel(n_jobs=1)]: Using backend SequentialBackend with 1 concurrent workers.\n",
      "[Parallel(n_jobs=1)]: Done   1 out of   1 | elapsed:    1.1s remaining:    0.0s\n",
      "[Parallel(n_jobs=1)]: Done   1 out of   1 | elapsed:    1.1s finished\n",
      "C:\\Users\\Sage\\anaconda3\\lib\\site-packages\\autoreject\\ransac.py:229: RuntimeWarning: No bad channels to interpolate. Doing nothing...\n",
      "  epochs.interpolate_bads(reset_bads=True)\n"
     ]
    },
    {
     "name": "stdout",
     "output_type": "stream",
     "text": [
      "logistic: 0.303030303030303\n",
      "rf: 0.2606060606060606\n",
      "{'l_freq': None, 'h_freq': None, 'auto_reject': 'ransac', 'ica': [0, 1], 'set_average_ref': True, 'apply_baseline': True, 'drop_ref_ch': False, 'crop': False}\n"
     ]
    },
    {
     "name": "stderr",
     "output_type": "stream",
     "text": [
      "[Parallel(n_jobs=1)]: Using backend SequentialBackend with 1 concurrent workers.\n",
      "[Parallel(n_jobs=1)]: Done   1 out of   1 | elapsed:    1.2s remaining:    0.0s\n",
      "[Parallel(n_jobs=1)]: Done   1 out of   1 | elapsed:    1.2s finished\n",
      "C:\\Users\\Sage\\anaconda3\\lib\\site-packages\\autoreject\\ransac.py:229: RuntimeWarning: No bad channels to interpolate. Doing nothing...\n",
      "  epochs.interpolate_bads(reset_bads=True)\n"
     ]
    },
    {
     "name": "stdout",
     "output_type": "stream",
     "text": [
      "logistic: 0.31515151515151507\n",
      "rf: 0.3515151515151515\n",
      "{'l_freq': None, 'h_freq': None, 'auto_reject': 'ransac', 'ica': [0, 1], 'set_average_ref': True, 'apply_baseline': True, 'drop_ref_ch': False, 'crop': True}\n"
     ]
    },
    {
     "name": "stderr",
     "output_type": "stream",
     "text": [
      "[Parallel(n_jobs=1)]: Using backend SequentialBackend with 1 concurrent workers.\n",
      "[Parallel(n_jobs=1)]: Done   1 out of   1 | elapsed:    1.1s remaining:    0.0s\n",
      "[Parallel(n_jobs=1)]: Done   1 out of   1 | elapsed:    1.1s finished\n",
      "C:\\Users\\Sage\\anaconda3\\lib\\site-packages\\autoreject\\ransac.py:229: RuntimeWarning: No bad channels to interpolate. Doing nothing...\n",
      "  epochs.interpolate_bads(reset_bads=True)\n"
     ]
    },
    {
     "name": "stdout",
     "output_type": "stream",
     "text": [
      "logistic: 0.303030303030303\n",
      "rf: 0.296969696969697\n",
      "{'l_freq': None, 'h_freq': None, 'auto_reject': 'ransac', 'ica': [0, 1], 'set_average_ref': True, 'apply_baseline': True, 'drop_ref_ch': True, 'crop': False}\n"
     ]
    },
    {
     "name": "stderr",
     "output_type": "stream",
     "text": [
      "[Parallel(n_jobs=1)]: Using backend SequentialBackend with 1 concurrent workers.\n",
      "[Parallel(n_jobs=1)]: Done   1 out of   1 | elapsed:    1.1s remaining:    0.0s\n",
      "[Parallel(n_jobs=1)]: Done   1 out of   1 | elapsed:    1.1s finished\n",
      "C:\\Users\\Sage\\anaconda3\\lib\\site-packages\\autoreject\\ransac.py:229: RuntimeWarning: No bad channels to interpolate. Doing nothing...\n",
      "  epochs.interpolate_bads(reset_bads=True)\n"
     ]
    },
    {
     "name": "stdout",
     "output_type": "stream",
     "text": [
      "logistic: 0.31515151515151507\n",
      "rf: 0.31515151515151507\n",
      "{'l_freq': None, 'h_freq': None, 'auto_reject': 'ransac', 'ica': [0, 1], 'set_average_ref': True, 'apply_baseline': True, 'drop_ref_ch': True, 'crop': True}\n"
     ]
    },
    {
     "name": "stderr",
     "output_type": "stream",
     "text": [
      "[Parallel(n_jobs=1)]: Using backend SequentialBackend with 1 concurrent workers.\n",
      "[Parallel(n_jobs=1)]: Done   1 out of   1 | elapsed:    1.0s remaining:    0.0s\n",
      "[Parallel(n_jobs=1)]: Done   1 out of   1 | elapsed:    1.0s finished\n",
      "C:\\Users\\Sage\\anaconda3\\lib\\site-packages\\autoreject\\ransac.py:229: RuntimeWarning: No bad channels to interpolate. Doing nothing...\n",
      "  epochs.interpolate_bads(reset_bads=True)\n"
     ]
    },
    {
     "name": "stdout",
     "output_type": "stream",
     "text": [
      "logistic: 0.2787878787878788\n",
      "rf: 0.24242424242424243\n",
      "{'l_freq': None, 'h_freq': 50, 'auto_reject': None, 'ica': None, 'set_average_ref': False, 'apply_baseline': False, 'drop_ref_ch': False, 'crop': False}\n",
      "logistic: 0.24848484848484848\n",
      "rf: 0.2727272727272727\n",
      "{'l_freq': None, 'h_freq': 50, 'auto_reject': None, 'ica': None, 'set_average_ref': False, 'apply_baseline': False, 'drop_ref_ch': False, 'crop': True}\n",
      "logistic: 0.24848484848484848\n",
      "rf: 0.2\n",
      "{'l_freq': None, 'h_freq': 50, 'auto_reject': None, 'ica': None, 'set_average_ref': False, 'apply_baseline': False, 'drop_ref_ch': True, 'crop': False}\n",
      "logistic: 0.26666666666666666\n",
      "rf: 0.21818181818181817\n",
      "{'l_freq': None, 'h_freq': 50, 'auto_reject': None, 'ica': None, 'set_average_ref': False, 'apply_baseline': False, 'drop_ref_ch': True, 'crop': True}\n",
      "logistic: 0.20606060606060606\n",
      "rf: 0.24848484848484845\n",
      "{'l_freq': None, 'h_freq': 50, 'auto_reject': None, 'ica': None, 'set_average_ref': False, 'apply_baseline': True, 'drop_ref_ch': False, 'crop': False}\n",
      "logistic: 0.2909090909090909\n",
      "rf: 0.30303030303030304\n",
      "{'l_freq': None, 'h_freq': 50, 'auto_reject': None, 'ica': None, 'set_average_ref': False, 'apply_baseline': True, 'drop_ref_ch': False, 'crop': True}\n",
      "logistic: 0.24242424242424243\n",
      "rf: 0.2909090909090909\n",
      "{'l_freq': None, 'h_freq': 50, 'auto_reject': None, 'ica': None, 'set_average_ref': False, 'apply_baseline': True, 'drop_ref_ch': True, 'crop': False}\n",
      "logistic: 0.30303030303030304\n",
      "rf: 0.2727272727272727\n",
      "{'l_freq': None, 'h_freq': 50, 'auto_reject': None, 'ica': None, 'set_average_ref': False, 'apply_baseline': True, 'drop_ref_ch': True, 'crop': True}\n",
      "logistic: 0.22424242424242427\n",
      "rf: 0.3090909090909091\n",
      "{'l_freq': None, 'h_freq': 50, 'auto_reject': None, 'ica': None, 'set_average_ref': True, 'apply_baseline': False, 'drop_ref_ch': False, 'crop': False}\n",
      "logistic: 0.2545454545454545\n",
      "rf: 0.24242424242424243\n",
      "{'l_freq': None, 'h_freq': 50, 'auto_reject': None, 'ica': None, 'set_average_ref': True, 'apply_baseline': False, 'drop_ref_ch': False, 'crop': True}\n",
      "logistic: 0.22424242424242427\n",
      "rf: 0.16363636363636364\n",
      "{'l_freq': None, 'h_freq': 50, 'auto_reject': None, 'ica': None, 'set_average_ref': True, 'apply_baseline': False, 'drop_ref_ch': True, 'crop': False}\n",
      "logistic: 0.27878787878787875\n",
      "rf: 0.27878787878787875\n",
      "{'l_freq': None, 'h_freq': 50, 'auto_reject': None, 'ica': None, 'set_average_ref': True, 'apply_baseline': False, 'drop_ref_ch': True, 'crop': True}\n",
      "logistic: 0.2727272727272727\n",
      "rf: 0.1515151515151515\n",
      "{'l_freq': None, 'h_freq': 50, 'auto_reject': None, 'ica': None, 'set_average_ref': True, 'apply_baseline': True, 'drop_ref_ch': False, 'crop': False}\n",
      "logistic: 0.32121212121212117\n",
      "rf: 0.3333333333333333\n",
      "{'l_freq': None, 'h_freq': 50, 'auto_reject': None, 'ica': None, 'set_average_ref': True, 'apply_baseline': True, 'drop_ref_ch': False, 'crop': True}\n",
      "logistic: 0.3151515151515151\n",
      "rf: 0.19999999999999998\n",
      "{'l_freq': None, 'h_freq': 50, 'auto_reject': None, 'ica': None, 'set_average_ref': True, 'apply_baseline': True, 'drop_ref_ch': True, 'crop': False}\n",
      "logistic: 0.3090909090909091\n",
      "rf: 0.30909090909090914\n",
      "{'l_freq': None, 'h_freq': 50, 'auto_reject': None, 'ica': None, 'set_average_ref': True, 'apply_baseline': True, 'drop_ref_ch': True, 'crop': True}\n",
      "logistic: 0.30303030303030304\n",
      "rf: 0.2545454545454545\n",
      "{'l_freq': None, 'h_freq': 50, 'auto_reject': None, 'ica': [0], 'set_average_ref': False, 'apply_baseline': False, 'drop_ref_ch': False, 'crop': False}\n",
      "logistic: 0.28484848484848485\n",
      "rf: 0.18787878787878787\n",
      "{'l_freq': None, 'h_freq': 50, 'auto_reject': None, 'ica': [0], 'set_average_ref': False, 'apply_baseline': False, 'drop_ref_ch': False, 'crop': True}\n",
      "logistic: 0.30909090909090914\n",
      "rf: 0.20606060606060606\n",
      "{'l_freq': None, 'h_freq': 50, 'auto_reject': None, 'ica': [0], 'set_average_ref': False, 'apply_baseline': False, 'drop_ref_ch': True, 'crop': False}\n",
      "logistic: 0.2545454545454545\n",
      "rf: 0.24848484848484848\n",
      "{'l_freq': None, 'h_freq': 50, 'auto_reject': None, 'ica': [0], 'set_average_ref': False, 'apply_baseline': False, 'drop_ref_ch': True, 'crop': True}\n",
      "logistic: 0.296969696969697\n",
      "rf: 0.24242424242424243\n",
      "{'l_freq': None, 'h_freq': 50, 'auto_reject': None, 'ica': [0], 'set_average_ref': False, 'apply_baseline': True, 'drop_ref_ch': False, 'crop': False}\n",
      "logistic: 0.2909090909090909\n",
      "rf: 0.2545454545454545\n",
      "{'l_freq': None, 'h_freq': 50, 'auto_reject': None, 'ica': [0], 'set_average_ref': False, 'apply_baseline': True, 'drop_ref_ch': False, 'crop': True}\n",
      "logistic: 0.296969696969697\n",
      "rf: 0.2909090909090909\n",
      "{'l_freq': None, 'h_freq': 50, 'auto_reject': None, 'ica': [0], 'set_average_ref': False, 'apply_baseline': True, 'drop_ref_ch': True, 'crop': False}\n",
      "logistic: 0.303030303030303\n",
      "rf: 0.24242424242424243\n",
      "{'l_freq': None, 'h_freq': 50, 'auto_reject': None, 'ica': [0], 'set_average_ref': False, 'apply_baseline': True, 'drop_ref_ch': True, 'crop': True}\n",
      "logistic: 0.2909090909090909\n",
      "rf: 0.30303030303030304\n",
      "{'l_freq': None, 'h_freq': 50, 'auto_reject': None, 'ica': [0], 'set_average_ref': True, 'apply_baseline': False, 'drop_ref_ch': False, 'crop': False}\n",
      "logistic: 0.2909090909090909\n",
      "rf: 0.23636363636363633\n",
      "{'l_freq': None, 'h_freq': 50, 'auto_reject': None, 'ica': [0], 'set_average_ref': True, 'apply_baseline': False, 'drop_ref_ch': False, 'crop': True}\n",
      "logistic: 0.29696969696969694\n",
      "rf: 0.18181818181818182\n",
      "{'l_freq': None, 'h_freq': 50, 'auto_reject': None, 'ica': [0], 'set_average_ref': True, 'apply_baseline': False, 'drop_ref_ch': True, 'crop': False}\n",
      "logistic: 0.3151515151515151\n",
      "rf: 0.2545454545454545\n",
      "{'l_freq': None, 'h_freq': 50, 'auto_reject': None, 'ica': [0], 'set_average_ref': True, 'apply_baseline': False, 'drop_ref_ch': True, 'crop': True}\n",
      "logistic: 0.27878787878787875\n",
      "rf: 0.18181818181818182\n",
      "{'l_freq': None, 'h_freq': 50, 'auto_reject': None, 'ica': [0], 'set_average_ref': True, 'apply_baseline': True, 'drop_ref_ch': False, 'crop': False}\n",
      "logistic: 0.33939393939393936\n",
      "rf: 0.30303030303030304\n",
      "{'l_freq': None, 'h_freq': 50, 'auto_reject': None, 'ica': [0], 'set_average_ref': True, 'apply_baseline': True, 'drop_ref_ch': False, 'crop': True}\n",
      "logistic: 0.2909090909090909\n",
      "rf: 0.2545454545454545\n",
      "{'l_freq': None, 'h_freq': 50, 'auto_reject': None, 'ica': [0], 'set_average_ref': True, 'apply_baseline': True, 'drop_ref_ch': True, 'crop': False}\n",
      "logistic: 0.32727272727272727\n",
      "rf: 0.32121212121212117\n",
      "{'l_freq': None, 'h_freq': 50, 'auto_reject': None, 'ica': [0], 'set_average_ref': True, 'apply_baseline': True, 'drop_ref_ch': True, 'crop': True}\n",
      "logistic: 0.2848484848484848\n",
      "rf: 0.24848484848484848\n",
      "{'l_freq': None, 'h_freq': 50, 'auto_reject': None, 'ica': [1], 'set_average_ref': False, 'apply_baseline': False, 'drop_ref_ch': False, 'crop': False}\n",
      "logistic: 0.2787878787878788\n",
      "rf: 0.32727272727272727\n",
      "{'l_freq': None, 'h_freq': 50, 'auto_reject': None, 'ica': [1], 'set_average_ref': False, 'apply_baseline': False, 'drop_ref_ch': False, 'crop': True}\n",
      "logistic: 0.2727272727272727\n",
      "rf: 0.1696969696969697\n",
      "{'l_freq': None, 'h_freq': 50, 'auto_reject': None, 'ica': [1], 'set_average_ref': False, 'apply_baseline': False, 'drop_ref_ch': True, 'crop': False}\n",
      "logistic: 0.296969696969697\n",
      "rf: 0.32121212121212117\n",
      "{'l_freq': None, 'h_freq': 50, 'auto_reject': None, 'ica': [1], 'set_average_ref': False, 'apply_baseline': False, 'drop_ref_ch': True, 'crop': True}\n",
      "logistic: 0.1878787878787879\n",
      "rf: 0.2121212121212121\n",
      "{'l_freq': None, 'h_freq': 50, 'auto_reject': None, 'ica': [1], 'set_average_ref': False, 'apply_baseline': True, 'drop_ref_ch': False, 'crop': False}\n",
      "logistic: 0.29696969696969694\n",
      "rf: 0.32727272727272727\n",
      "{'l_freq': None, 'h_freq': 50, 'auto_reject': None, 'ica': [1], 'set_average_ref': False, 'apply_baseline': True, 'drop_ref_ch': False, 'crop': True}\n",
      "logistic: 0.29696969696969694\n",
      "rf: 0.2606060606060606\n",
      "{'l_freq': None, 'h_freq': 50, 'auto_reject': None, 'ica': [1], 'set_average_ref': False, 'apply_baseline': True, 'drop_ref_ch': True, 'crop': False}\n",
      "logistic: 0.33939393939393936\n",
      "rf: 0.3151515151515151\n",
      "{'l_freq': None, 'h_freq': 50, 'auto_reject': None, 'ica': [1], 'set_average_ref': False, 'apply_baseline': True, 'drop_ref_ch': True, 'crop': True}\n",
      "logistic: 0.2909090909090909\n",
      "rf: 0.3090909090909091\n",
      "{'l_freq': None, 'h_freq': 50, 'auto_reject': None, 'ica': [1], 'set_average_ref': True, 'apply_baseline': False, 'drop_ref_ch': False, 'crop': False}\n"
     ]
    },
    {
     "name": "stdout",
     "output_type": "stream",
     "text": [
      "logistic: 0.29696969696969694\n",
      "rf: 0.2606060606060606\n",
      "{'l_freq': None, 'h_freq': 50, 'auto_reject': None, 'ica': [1], 'set_average_ref': True, 'apply_baseline': False, 'drop_ref_ch': False, 'crop': True}\n",
      "logistic: 0.30303030303030304\n",
      "rf: 0.2727272727272727\n",
      "{'l_freq': None, 'h_freq': 50, 'auto_reject': None, 'ica': [1], 'set_average_ref': True, 'apply_baseline': False, 'drop_ref_ch': True, 'crop': False}\n",
      "logistic: 0.29696969696969694\n",
      "rf: 0.2545454545454545\n",
      "{'l_freq': None, 'h_freq': 50, 'auto_reject': None, 'ica': [1], 'set_average_ref': True, 'apply_baseline': False, 'drop_ref_ch': True, 'crop': True}\n",
      "logistic: 0.2606060606060606\n",
      "rf: 0.24848484848484848\n",
      "{'l_freq': None, 'h_freq': 50, 'auto_reject': None, 'ica': [1], 'set_average_ref': True, 'apply_baseline': True, 'drop_ref_ch': False, 'crop': False}\n",
      "logistic: 0.32121212121212117\n",
      "rf: 0.33333333333333337\n",
      "{'l_freq': None, 'h_freq': 50, 'auto_reject': None, 'ica': [1], 'set_average_ref': True, 'apply_baseline': True, 'drop_ref_ch': False, 'crop': True}\n",
      "logistic: 0.3333333333333333\n",
      "rf: 0.2848484848484848\n",
      "{'l_freq': None, 'h_freq': 50, 'auto_reject': None, 'ica': [1], 'set_average_ref': True, 'apply_baseline': True, 'drop_ref_ch': True, 'crop': False}\n",
      "logistic: 0.32121212121212117\n",
      "rf: 0.30303030303030304\n",
      "{'l_freq': None, 'h_freq': 50, 'auto_reject': None, 'ica': [1], 'set_average_ref': True, 'apply_baseline': True, 'drop_ref_ch': True, 'crop': True}\n",
      "logistic: 0.3333333333333333\n",
      "rf: 0.24848484848484848\n",
      "{'l_freq': None, 'h_freq': 50, 'auto_reject': None, 'ica': [0, 1], 'set_average_ref': False, 'apply_baseline': False, 'drop_ref_ch': False, 'crop': False}\n",
      "logistic: 0.3151515151515151\n",
      "rf: 0.3272727272727272\n",
      "{'l_freq': None, 'h_freq': 50, 'auto_reject': None, 'ica': [0, 1], 'set_average_ref': False, 'apply_baseline': False, 'drop_ref_ch': False, 'crop': True}\n",
      "logistic: 0.40606060606060607\n",
      "rf: 0.3151515151515151\n",
      "{'l_freq': None, 'h_freq': 50, 'auto_reject': None, 'ica': [0, 1], 'set_average_ref': False, 'apply_baseline': False, 'drop_ref_ch': True, 'crop': False}\n",
      "logistic: 0.2909090909090909\n",
      "rf: 0.27878787878787875\n",
      "{'l_freq': None, 'h_freq': 50, 'auto_reject': None, 'ica': [0, 1], 'set_average_ref': False, 'apply_baseline': False, 'drop_ref_ch': True, 'crop': True}\n",
      "logistic: 0.2666666666666667\n",
      "rf: 0.24242424242424238\n",
      "{'l_freq': None, 'h_freq': 50, 'auto_reject': None, 'ica': [0, 1], 'set_average_ref': False, 'apply_baseline': True, 'drop_ref_ch': False, 'crop': False}\n",
      "logistic: 0.296969696969697\n",
      "rf: 0.35151515151515145\n",
      "{'l_freq': None, 'h_freq': 50, 'auto_reject': None, 'ica': [0, 1], 'set_average_ref': False, 'apply_baseline': True, 'drop_ref_ch': False, 'crop': True}\n",
      "logistic: 0.303030303030303\n",
      "rf: 0.32121212121212117\n",
      "{'l_freq': None, 'h_freq': 50, 'auto_reject': None, 'ica': [0, 1], 'set_average_ref': False, 'apply_baseline': True, 'drop_ref_ch': True, 'crop': False}\n",
      "logistic: 0.3333333333333333\n",
      "rf: 0.30303030303030304\n",
      "{'l_freq': None, 'h_freq': 50, 'auto_reject': None, 'ica': [0, 1], 'set_average_ref': False, 'apply_baseline': True, 'drop_ref_ch': True, 'crop': True}\n",
      "logistic: 0.2727272727272727\n",
      "rf: 0.32727272727272727\n",
      "{'l_freq': None, 'h_freq': 50, 'auto_reject': None, 'ica': [0, 1], 'set_average_ref': True, 'apply_baseline': False, 'drop_ref_ch': False, 'crop': False}\n",
      "logistic: 0.2363636363636364\n",
      "rf: 0.23636363636363633\n",
      "{'l_freq': None, 'h_freq': 50, 'auto_reject': None, 'ica': [0, 1], 'set_average_ref': True, 'apply_baseline': False, 'drop_ref_ch': False, 'crop': True}\n",
      "logistic: 0.2909090909090909\n",
      "rf: 0.2545454545454545\n",
      "{'l_freq': None, 'h_freq': 50, 'auto_reject': None, 'ica': [0, 1], 'set_average_ref': True, 'apply_baseline': False, 'drop_ref_ch': True, 'crop': False}\n",
      "logistic: 0.2545454545454545\n",
      "rf: 0.2666666666666666\n",
      "{'l_freq': None, 'h_freq': 50, 'auto_reject': None, 'ica': [0, 1], 'set_average_ref': True, 'apply_baseline': False, 'drop_ref_ch': True, 'crop': True}\n",
      "logistic: 0.27878787878787875\n",
      "rf: 0.20606060606060606\n",
      "{'l_freq': None, 'h_freq': 50, 'auto_reject': None, 'ica': [0, 1], 'set_average_ref': True, 'apply_baseline': True, 'drop_ref_ch': False, 'crop': False}\n",
      "logistic: 0.3515151515151515\n",
      "rf: 0.33333333333333337\n",
      "{'l_freq': None, 'h_freq': 50, 'auto_reject': None, 'ica': [0, 1], 'set_average_ref': True, 'apply_baseline': True, 'drop_ref_ch': False, 'crop': True}\n",
      "logistic: 0.2606060606060606\n",
      "rf: 0.28484848484848485\n",
      "{'l_freq': None, 'h_freq': 50, 'auto_reject': None, 'ica': [0, 1], 'set_average_ref': True, 'apply_baseline': True, 'drop_ref_ch': True, 'crop': False}\n",
      "logistic: 0.303030303030303\n",
      "rf: 0.35757575757575755\n",
      "{'l_freq': None, 'h_freq': 50, 'auto_reject': None, 'ica': [0, 1], 'set_average_ref': True, 'apply_baseline': True, 'drop_ref_ch': True, 'crop': True}\n",
      "logistic: 0.26666666666666666\n",
      "rf: 0.27878787878787875\n",
      "{'l_freq': None, 'h_freq': 50, 'auto_reject': 'ar', 'ica': None, 'set_average_ref': False, 'apply_baseline': False, 'drop_ref_ch': False, 'crop': False}\n",
      "logistic: 0.3333333333333333\n",
      "rf: 0.13333333333333333\n",
      "{'l_freq': None, 'h_freq': 50, 'auto_reject': 'ar', 'ica': None, 'set_average_ref': False, 'apply_baseline': False, 'drop_ref_ch': False, 'crop': True}\n",
      "logistic: 0.16666666666666666\n",
      "rf: 0.16666666666666666\n",
      "{'l_freq': None, 'h_freq': 50, 'auto_reject': 'ar', 'ica': None, 'set_average_ref': False, 'apply_baseline': False, 'drop_ref_ch': True, 'crop': False}\n",
      "logistic: 0.29444444444444445\n",
      "rf: 0.23703703703703707\n",
      "{'l_freq': None, 'h_freq': 50, 'auto_reject': 'ar', 'ica': None, 'set_average_ref': False, 'apply_baseline': False, 'drop_ref_ch': True, 'crop': True}\n",
      "logistic: 0.3074074074074074\n",
      "rf: 0.24592592592592588\n",
      "{'l_freq': None, 'h_freq': 50, 'auto_reject': 'ar', 'ica': None, 'set_average_ref': False, 'apply_baseline': True, 'drop_ref_ch': False, 'crop': False}\n",
      "logistic: 0.3151515151515152\n",
      "rf: 0.2727272727272727\n",
      "{'l_freq': None, 'h_freq': 50, 'auto_reject': 'ar', 'ica': None, 'set_average_ref': False, 'apply_baseline': True, 'drop_ref_ch': False, 'crop': True}\n",
      "logistic: 0.26484848484848483\n",
      "rf: 0.3321212121212121\n",
      "{'l_freq': None, 'h_freq': 50, 'auto_reject': 'ar', 'ica': None, 'set_average_ref': False, 'apply_baseline': True, 'drop_ref_ch': True, 'crop': False}\n",
      "logistic: 0.2272727272727273\n",
      "rf: 0.2393939393939394\n",
      "{'l_freq': None, 'h_freq': 50, 'auto_reject': 'ar', 'ica': None, 'set_average_ref': False, 'apply_baseline': True, 'drop_ref_ch': True, 'crop': True}\n",
      "logistic: 0.23272727272727273\n",
      "rf: 0.23878787878787883\n",
      "{'l_freq': None, 'h_freq': 50, 'auto_reject': 'ar', 'ica': None, 'set_average_ref': True, 'apply_baseline': False, 'drop_ref_ch': False, 'crop': False}\n",
      "logistic: 0.28909090909090907\n",
      "rf: 0.2084848484848485\n",
      "{'l_freq': None, 'h_freq': 50, 'auto_reject': 'ar', 'ica': None, 'set_average_ref': True, 'apply_baseline': False, 'drop_ref_ch': False, 'crop': True}\n"
     ]
    },
    {
     "name": "stderr",
     "output_type": "stream",
     "text": [
      "C:\\Users\\Sage\\AppData\\Roaming\\Python\\Python39\\site-packages\\sklearn\\model_selection\\_split.py:676: UserWarning: The least populated class in y has only 3 members, which is less than n_splits=5.\n",
      "  warnings.warn(\n",
      "C:\\Users\\Sage\\AppData\\Roaming\\Python\\Python39\\site-packages\\sklearn\\model_selection\\_split.py:676: UserWarning: The least populated class in y has only 3 members, which is less than n_splits=5.\n",
      "  warnings.warn(\n"
     ]
    },
    {
     "name": "stdout",
     "output_type": "stream",
     "text": [
      "logistic: 0.3\n",
      "rf: 0.2\n",
      "{'l_freq': None, 'h_freq': 50, 'auto_reject': 'ar', 'ica': None, 'set_average_ref': True, 'apply_baseline': False, 'drop_ref_ch': True, 'crop': False}\n",
      "logistic: 0.2963636363636364\n",
      "rf: 0.26484848484848483\n",
      "{'l_freq': None, 'h_freq': 50, 'auto_reject': 'ar', 'ica': None, 'set_average_ref': True, 'apply_baseline': False, 'drop_ref_ch': True, 'crop': True}\n",
      "logistic: 0.2824242424242424\n",
      "rf: 0.24666666666666667\n",
      "{'l_freq': None, 'h_freq': 50, 'auto_reject': 'ar', 'ica': None, 'set_average_ref': True, 'apply_baseline': True, 'drop_ref_ch': False, 'crop': False}\n",
      "logistic: 0.3012121212121212\n",
      "rf: 0.24484848484848482\n",
      "{'l_freq': None, 'h_freq': 50, 'auto_reject': 'ar', 'ica': None, 'set_average_ref': True, 'apply_baseline': True, 'drop_ref_ch': False, 'crop': True}\n",
      "logistic: 0.3151515151515151\n",
      "rf: 0.26666666666666666\n",
      "{'l_freq': None, 'h_freq': 50, 'auto_reject': 'ar', 'ica': None, 'set_average_ref': True, 'apply_baseline': True, 'drop_ref_ch': True, 'crop': False}\n",
      "logistic: 0.37090909090909085\n",
      "rf: 0.3472727272727273\n",
      "{'l_freq': None, 'h_freq': 50, 'auto_reject': 'ar', 'ica': None, 'set_average_ref': True, 'apply_baseline': True, 'drop_ref_ch': True, 'crop': True}\n",
      "logistic: 0.29454545454545455\n",
      "rf: 0.2957575757575757\n",
      "{'l_freq': None, 'h_freq': 50, 'auto_reject': 'ar', 'ica': [0], 'set_average_ref': False, 'apply_baseline': False, 'drop_ref_ch': False, 'crop': False}\n",
      "logistic: 0.30303030303030304\n",
      "rf: 0.2672727272727273\n",
      "{'l_freq': None, 'h_freq': 50, 'auto_reject': 'ar', 'ica': [0], 'set_average_ref': False, 'apply_baseline': False, 'drop_ref_ch': False, 'crop': True}\n",
      "logistic: 0.32121212121212117\n",
      "rf: 0.24242424242424243\n",
      "{'l_freq': None, 'h_freq': 50, 'auto_reject': 'ar', 'ica': [0], 'set_average_ref': False, 'apply_baseline': False, 'drop_ref_ch': True, 'crop': False}\n",
      "logistic: 0.2448412698412698\n",
      "rf: 0.19735449735449737\n",
      "{'l_freq': None, 'h_freq': 50, 'auto_reject': 'ar', 'ica': [0], 'set_average_ref': False, 'apply_baseline': False, 'drop_ref_ch': True, 'crop': True}\n",
      "logistic: 0.3054545454545454\n",
      "rf: 0.2393939393939394\n",
      "{'l_freq': None, 'h_freq': 50, 'auto_reject': 'ar', 'ica': [0], 'set_average_ref': False, 'apply_baseline': True, 'drop_ref_ch': False, 'crop': False}\n",
      "logistic: 0.36060606060606065\n",
      "rf: 0.33818181818181814\n",
      "{'l_freq': None, 'h_freq': 50, 'auto_reject': 'ar', 'ica': [0], 'set_average_ref': False, 'apply_baseline': True, 'drop_ref_ch': False, 'crop': True}\n",
      "logistic: 0.2727272727272727\n",
      "rf: 0.3151515151515151\n",
      "{'l_freq': None, 'h_freq': 50, 'auto_reject': 'ar', 'ica': [0], 'set_average_ref': False, 'apply_baseline': True, 'drop_ref_ch': True, 'crop': False}\n",
      "logistic: 0.32727272727272727\n",
      "rf: 0.26666666666666666\n",
      "{'l_freq': None, 'h_freq': 50, 'auto_reject': 'ar', 'ica': [0], 'set_average_ref': False, 'apply_baseline': True, 'drop_ref_ch': True, 'crop': True}\n",
      "logistic: 0.35185185185185186\n",
      "rf: 0.2907407407407407\n",
      "{'l_freq': None, 'h_freq': 50, 'auto_reject': 'ar', 'ica': [0], 'set_average_ref': True, 'apply_baseline': False, 'drop_ref_ch': False, 'crop': False}\n",
      "logistic: 0.24242424242424243\n",
      "rf: 0.23454545454545453\n",
      "{'l_freq': None, 'h_freq': 50, 'auto_reject': 'ar', 'ica': [0], 'set_average_ref': True, 'apply_baseline': False, 'drop_ref_ch': False, 'crop': True}\n",
      "logistic: 0.20727272727272728\n",
      "rf: 0.23212121212121212\n",
      "{'l_freq': None, 'h_freq': 50, 'auto_reject': 'ar', 'ica': [0], 'set_average_ref': True, 'apply_baseline': False, 'drop_ref_ch': True, 'crop': False}\n",
      "logistic: 0.3090909090909091\n",
      "rf: 0.2181818181818182\n",
      "{'l_freq': None, 'h_freq': 50, 'auto_reject': 'ar', 'ica': [0], 'set_average_ref': True, 'apply_baseline': False, 'drop_ref_ch': True, 'crop': True}\n"
     ]
    },
    {
     "name": "stderr",
     "output_type": "stream",
     "text": [
      "C:\\Users\\Sage\\AppData\\Roaming\\Python\\Python39\\site-packages\\sklearn\\model_selection\\_split.py:676: UserWarning: The least populated class in y has only 2 members, which is less than n_splits=5.\n",
      "  warnings.warn(\n",
      "C:\\Users\\Sage\\AppData\\Roaming\\Python\\Python39\\site-packages\\sklearn\\metrics\\_classification.py:1987: UserWarning: y_pred contains classes not in y_true\n",
      "  warnings.warn(\"y_pred contains classes not in y_true\")\n",
      "C:\\Users\\Sage\\AppData\\Roaming\\Python\\Python39\\site-packages\\sklearn\\metrics\\_classification.py:1987: UserWarning: y_pred contains classes not in y_true\n",
      "  warnings.warn(\"y_pred contains classes not in y_true\")\n",
      "C:\\Users\\Sage\\AppData\\Roaming\\Python\\Python39\\site-packages\\sklearn\\metrics\\_classification.py:1987: UserWarning: y_pred contains classes not in y_true\n",
      "  warnings.warn(\"y_pred contains classes not in y_true\")\n",
      "C:\\Users\\Sage\\AppData\\Roaming\\Python\\Python39\\site-packages\\sklearn\\model_selection\\_split.py:676: UserWarning: The least populated class in y has only 2 members, which is less than n_splits=5.\n",
      "  warnings.warn(\n"
     ]
    },
    {
     "name": "stdout",
     "output_type": "stream",
     "text": [
      "logistic: 0.26666666666666666\n"
     ]
    },
    {
     "name": "stderr",
     "output_type": "stream",
     "text": [
      "C:\\Users\\Sage\\AppData\\Roaming\\Python\\Python39\\site-packages\\sklearn\\metrics\\_classification.py:1987: UserWarning: y_pred contains classes not in y_true\n",
      "  warnings.warn(\"y_pred contains classes not in y_true\")\n"
     ]
    },
    {
     "name": "stdout",
     "output_type": "stream",
     "text": [
      "rf: 0.26666666666666666\n",
      "{'l_freq': None, 'h_freq': 50, 'auto_reject': 'ar', 'ica': [0], 'set_average_ref': True, 'apply_baseline': True, 'drop_ref_ch': False, 'crop': False}\n",
      "logistic: 0.34703703703703703\n",
      "rf: 0.23074074074074075\n",
      "{'l_freq': None, 'h_freq': 50, 'auto_reject': 'ar', 'ica': [0], 'set_average_ref': True, 'apply_baseline': True, 'drop_ref_ch': False, 'crop': True}\n",
      "logistic: 0.3218181818181818\n",
      "rf: 0.29333333333333333\n",
      "{'l_freq': None, 'h_freq': 50, 'auto_reject': 'ar', 'ica': [0], 'set_average_ref': True, 'apply_baseline': True, 'drop_ref_ch': True, 'crop': False}\n",
      "logistic: 0.3339393939393939\n",
      "rf: 0.3321212121212121\n",
      "{'l_freq': None, 'h_freq': 50, 'auto_reject': 'ar', 'ica': [0], 'set_average_ref': True, 'apply_baseline': True, 'drop_ref_ch': True, 'crop': True}\n",
      "logistic: 0.35851851851851857\n",
      "rf: 0.3422222222222222\n",
      "{'l_freq': None, 'h_freq': 50, 'auto_reject': 'ar', 'ica': [1], 'set_average_ref': False, 'apply_baseline': False, 'drop_ref_ch': False, 'crop': False}\n",
      "logistic: 0.2909090909090909\n",
      "rf: 0.27878787878787875\n",
      "{'l_freq': None, 'h_freq': 50, 'auto_reject': 'ar', 'ica': [1], 'set_average_ref': False, 'apply_baseline': False, 'drop_ref_ch': False, 'crop': True}\n",
      "logistic: 0.27272727272727276\n",
      "rf: 0.32727272727272727\n",
      "{'l_freq': None, 'h_freq': 50, 'auto_reject': 'ar', 'ica': [1], 'set_average_ref': False, 'apply_baseline': False, 'drop_ref_ch': True, 'crop': False}\n",
      "logistic: 0.2848484848484848\n",
      "rf: 0.2727272727272727\n",
      "{'l_freq': None, 'h_freq': 50, 'auto_reject': 'ar', 'ica': [1], 'set_average_ref': False, 'apply_baseline': False, 'drop_ref_ch': True, 'crop': True}\n",
      "logistic: 0.3194444444444445\n",
      "rf: 0.21666666666666665\n",
      "{'l_freq': None, 'h_freq': 50, 'auto_reject': 'ar', 'ica': [1], 'set_average_ref': False, 'apply_baseline': True, 'drop_ref_ch': False, 'crop': False}\n",
      "logistic: 0.2551515151515152\n",
      "rf: 0.22000000000000003\n",
      "{'l_freq': None, 'h_freq': 50, 'auto_reject': 'ar', 'ica': [1], 'set_average_ref': False, 'apply_baseline': True, 'drop_ref_ch': False, 'crop': True}\n",
      "logistic: 0.3090909090909091\n",
      "rf: 0.3151515151515151\n",
      "{'l_freq': None, 'h_freq': 50, 'auto_reject': 'ar', 'ica': [1], 'set_average_ref': False, 'apply_baseline': True, 'drop_ref_ch': True, 'crop': False}\n",
      "logistic: 0.30185185185185187\n"
     ]
    }
   ],
   "source": [
    "all_scores = []\n",
    "all_params = []\n",
    "\n",
    "for l_freq in [None, .1, 10]:\n",
    "    for h_freq in [None, 50, 20]:\n",
    "        for auto_reject in [None, 'ar', 'ransac']:\n",
    "            for ica in [None, [0], [1], [0, 1]]:\n",
    "                for set_average_ref in [False, True]:\n",
    "                    for apply_baseline in [False, True]:\n",
    "                        for drop_ref_ch in [False, True]:\n",
    "                            for crop in [False, True]:\n",
    "                                \n",
    "                                params = {'l_freq': l_freq,\n",
    "                                          'h_freq': h_freq,\n",
    "                                          'auto_reject': auto_reject,\n",
    "                                          'ica': ica,\n",
    "                                          'set_average_ref': set_average_ref,\n",
    "                                          'apply_baseline': apply_baseline,\n",
    "                                          'drop_ref_ch': drop_ref_ch,\n",
    "                                          'crop': crop}\n",
    "                                \n",
    "                                all_params.append(params)\n",
    "                                print(params)\n",
    "                                \n",
    "                                # Get epochs w/ these params\n",
    "                                epochs = conv_runs_to_epochs(runs, tmin=-2, tmax=1.9,  **params)\n",
    "                                \n",
    "                                # Extract summary\n",
    "                                data = extract_summary_stats(epochs)\n",
    "                                labels = epochs.events[:, -1]\n",
    "                                \n",
    "                                # Get score\n",
    "                                score = eval_all(data, labels, verbose=True)\n",
    "                                all_scores.append(score)\n",
    "    \n",
    "                                \n",
    "                                                             "
   ]
  },
  {
   "cell_type": "code",
   "execution_count": null,
   "id": "52709968",
   "metadata": {},
   "outputs": [],
   "source": []
  }
 ],
 "metadata": {
  "kernelspec": {
   "display_name": "Python 3 (ipykernel)",
   "language": "python",
   "name": "python3"
  },
  "language_info": {
   "codemirror_mode": {
    "name": "ipython",
    "version": 3
   },
   "file_extension": ".py",
   "mimetype": "text/x-python",
   "name": "python",
   "nbconvert_exporter": "python",
   "pygments_lexer": "ipython3",
   "version": "3.9.7"
  }
 },
 "nbformat": 4,
 "nbformat_minor": 5
}
